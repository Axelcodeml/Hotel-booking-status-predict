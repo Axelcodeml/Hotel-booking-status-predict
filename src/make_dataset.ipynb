{
 "cells": [
  {
   "cell_type": "code",
   "execution_count": 8,
   "id": "835f275c",
   "metadata": {},
   "outputs": [],
   "source": [
    "# Script of data preparation\n",
    "import numpy as np\n",
    "import pandas as pd\n",
    "import os\n",
    "\n",
    "import statsmodels.api as sm\n",
    "from statsmodels.tools.tools import add_constant\n",
    "\n",
    "import warnings\n",
    "warnings.filterwarnings(\"ignore\")\n",
    "from statsmodels.tools.sm_exceptions import ConvergenceWarning\n",
    "warnings.simplefilter('ignore', ConvergenceWarning)"
   ]
  },
  {
   "cell_type": "code",
   "execution_count": 2,
   "id": "980aa274",
   "metadata": {},
   "outputs": [],
   "source": [
    "# functions to treat outliers by flooring and capping\n",
    "def treat_outliers(df, col):\n",
    "    Q1 = df[col].quantile(0.25)  # 25th quantile\n",
    "    Q3 = df[col].quantile(0.75)  # 75th quantile\n",
    "    IQR = Q3 - Q1\n",
    "    Low_Whisker = Q1 - 1.5 * IQR\n",
    "    Upp_Whisker = Q3 + 1.5 * IQR\n",
    "\n",
    "    # all the values smaller than Lower_Whisker will be assigned the value of Lower_Whisker\n",
    "    # all the values greater than Upper_Whisker will be assigned the value of Upper_Whisker\n",
    "    df[col] = np.clip(df[col], Low_Whisker, Upp_Whisker)\n",
    "\n",
    "\n",
    "def treat_outliers_all(df, col_list):\n",
    "    for c in col_list:\n",
    "        df = treat_outliers(df, c)\n",
    "\n",
    "    return df"
   ]
  },
  {
   "cell_type": "code",
   "execution_count": 3,
   "id": "9081a09c",
   "metadata": {},
   "outputs": [],
   "source": [
    "# Read csv files:\n",
    "def read_file_csv(filename):\n",
    "    df = pd.read_csv(os.path.join('../data/raw/', filename))\n",
    "    print(filename, 'Succesfully loaded')\n",
    "    return df"
   ]
  },
  {
   "cell_type": "code",
   "execution_count": 4,
   "id": "ddc4648a",
   "metadata": {},
   "outputs": [],
   "source": [
    "#We do the data transformation\n",
    "def data_preparation(df):\n",
    "    # Changing type of data\n",
    "    df['required_car_parking_space'] = df['required_car_parking_space'].astype(\"object\") \n",
    "    df['repeated_guest'] = df['repeated_guest'].astype(\"object\")\n",
    "    df['arrival_year'] = df['arrival_year'].astype(\"object\")\n",
    "    df['arrival_month'] = df['arrival_month'].astype(\"object\")\n",
    "    \n",
    "    #Changing by values of yes or no\n",
    "    index_aux=df[df['required_car_parking_space']==1].index.tolist()\n",
    "    df.loc[index_aux,'required_car_parking_space']='Yes'\n",
    "    index_aux=df[df['required_car_parking_space']==0].index.tolist()\n",
    "    df.loc[index_aux,'required_car_parking_space']='No'\n",
    "\n",
    "    index_aux=df[df['repeated_guest']==1].index.tolist()\n",
    "    df.loc[index_aux,'repeated_guest']='Yes'\n",
    "    index_aux=df[df['repeated_guest']==0].index.tolist()\n",
    "    df.loc[index_aux,'repeated_guest']='No'\n",
    "    \n",
    "    df[\"booking_status\"] = df[\"booking_status\"].apply(lambda x: 1 if x == \"Canceled\" else 0)\n",
    "    \n",
    "    #Changing string values in months\n",
    "    years=['2017','2018']\n",
    "    months=['January','February','March','April','May','June','July','August','September','October','November','December']\n",
    "\n",
    "    y_num=2017\n",
    "    for y_text in years:\n",
    "        index_aux=df[df['arrival_year']==y_num].index.tolist()\n",
    "        df.loc[index_aux,'arrival_year']=y_text\n",
    "        y_num=y_num+1\n",
    "    \n",
    "    m_num=1\n",
    "    for m_text in months:\n",
    "        index_aux=df[df['arrival_month']==m_num].index.tolist()\n",
    "        df.loc[index_aux,'arrival_month']=m_text\n",
    "        m_num=m_num+1    \n",
    "\n",
    "    #Treatment of very skewed data with logarithms\n",
    "    df[\"no_of_week_nights_log\"] = np.log(df[\"no_of_week_nights\"]+1)        \n",
    "    df[\"lead_time_log\"] = np.log(df[\"lead_time\"]+1)        \n",
    "\n",
    "    #Treatment of outliers\n",
    "    treat_outliers(df,'lead_time')\n",
    "    treat_outliers(df,'avg_price_per_room')    \n",
    "    \n",
    "    # Transformation to category\n",
    "    df['Booking_ID'] = df['Booking_ID'].astype('category')\n",
    "    df['type_of_meal_plan'] = df['type_of_meal_plan'].astype('category')\n",
    "    df['required_car_parking_space'] = df['required_car_parking_space'].astype('category')\n",
    "    df['room_type_reserved'] = df['room_type_reserved'].astype('category')\n",
    "    df['arrival_year'] = df['arrival_year'].astype('category')\n",
    "    df['arrival_month'] = df['arrival_month'].astype('category')\n",
    "    df['market_segment_type'] = df['market_segment_type'].astype('category')\n",
    "    df['repeated_guest'] = df['repeated_guest'].astype('category')\n",
    "    df['booking_status'] = df['booking_status'].astype('int64')\n",
    "    \n",
    "    df.drop(['Unnamed: 0','Booking_ID'],axis=1,inplace=True)\n",
    "    \n",
    "    # Dummy variables\n",
    "    X = df.drop([\"booking_status\"], axis=1)\n",
    "    Y = df[\"booking_status\"]\n",
    "\n",
    "    # adding a contstant to X variable\n",
    "    X = add_constant(X)\n",
    "\n",
    "    # creating dummies\n",
    "    X = pd.get_dummies(X,columns=X.select_dtypes(include=[\"object\", \"category\"]).columns.tolist(), drop_first=True)    \n",
    "    \n",
    "    \n",
    "    df=X.copy()\n",
    "    df['booking_status']=Y.copy()    \n",
    "    \n",
    "    print('Completed data transformation')\n",
    "    \n",
    "    return df"
   ]
  },
  {
   "cell_type": "code",
   "execution_count": 5,
   "id": "08773401",
   "metadata": {},
   "outputs": [],
   "source": [
    "def data_exporting(df, filename):\n",
    "    dfp = df\n",
    "    dfp.to_csv(os.path.join('../data/processed/', filename))\n",
    "    print(filename, 'Correctly exported to processed folder')"
   ]
  },
  {
   "cell_type": "code",
   "execution_count": 6,
   "id": "b47bd490",
   "metadata": {},
   "outputs": [],
   "source": [
    "def main():\n",
    "    # Training data\n",
    "    df1 = read_file_csv('bookingcc.csv')\n",
    "    tdf1 = data_preparation(df1)\n",
    "    data_exporting(tdf1,'booking_train.csv')\n",
    "    \n",
    "    # Validation data\n",
    "    df2 = read_file_csv('bookingcc_new.csv')\n",
    "    tdf2 = data_preparation(df2)\n",
    "    data_exporting(tdf2,'booking_val.csv')\n",
    "    \n",
    "    # Scoring data\n",
    "    df3 = read_file_csv('bookingcc_score.csv')\n",
    "    tdf3 = data_preparation(df3)\n",
    "    data_exporting(tdf3,'booking_score.csv')"
   ]
  },
  {
   "cell_type": "code",
   "execution_count": 9,
   "id": "f2f1e600",
   "metadata": {},
   "outputs": [
    {
     "name": "stdout",
     "output_type": "stream",
     "text": [
      "bookingcc.csv Succesfully loaded\n",
      "Completed data transformation\n",
      "booking_train.csv Correctly exported to processed folder\n",
      "bookingcc_new.csv Succesfully loaded\n",
      "Completed data transformation\n",
      "booking_val.csv Correctly exported to processed folder\n",
      "bookingcc_score.csv Succesfully loaded\n",
      "Completed data transformation\n",
      "booking_score.csv Correctly exported to processed folder\n"
     ]
    }
   ],
   "source": [
    "if __name__ == \"__main__\":\n",
    "    main()"
   ]
  },
  {
   "cell_type": "code",
   "execution_count": 10,
   "id": "9e7fd65c",
   "metadata": {},
   "outputs": [
    {
     "name": "stdout",
     "output_type": "stream",
     "text": [
      "(23216, 42)\n",
      "(5804, 41)\n",
      "(7255, 41)\n"
     ]
    }
   ],
   "source": [
    "df1 = pd.read_csv(\"../data/processed/booking_train.csv\")\n",
    "print(df1.shape)\n",
    "df2 = pd.read_csv(\"../data/processed/booking_val.csv\")\n",
    "print(df2.shape)\n",
    "df3 = pd.read_csv(\"../data/processed/booking_score.csv\")\n",
    "print(df3.shape)"
   ]
  }
 ],
 "metadata": {
  "kernelspec": {
   "display_name": "Python 3 (ipykernel)",
   "language": "python",
   "name": "python3"
  },
  "language_info": {
   "codemirror_mode": {
    "name": "ipython",
    "version": 3
   },
   "file_extension": ".py",
   "mimetype": "text/x-python",
   "name": "python",
   "nbconvert_exporter": "python",
   "pygments_lexer": "ipython3",
   "version": "3.9.7"
  }
 },
 "nbformat": 4,
 "nbformat_minor": 5
}
