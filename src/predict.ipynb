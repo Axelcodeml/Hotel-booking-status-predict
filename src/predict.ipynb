{
 "cells": [
  {
   "cell_type": "code",
   "execution_count": 17,
   "id": "28414d07",
   "metadata": {},
   "outputs": [],
   "source": [
    "#Script for testing or scoring set: Script 6\n",
    "#********************************************\n",
    "import numpy as np\n",
    "import pandas as pd\n",
    "import os\n",
    "import pickle\n",
    "\n",
    "# libaries to help with data visualization\n",
    "import matplotlib.pyplot as plt\n",
    "import seaborn as sns\n",
    "\n",
    "# To get diferent metric scores\n",
    "from sklearn.metrics import (\n",
    "    f1_score,\n",
    "    accuracy_score,\n",
    "    recall_score,\n",
    "    precision_score,\n",
    "    confusion_matrix,\n",
    "    roc_auc_score,\n",
    "    plot_confusion_matrix,\n",
    "    precision_recall_curve,\n",
    "    roc_curve,\n",
    "    make_scorer    \n",
    ")"
   ]
  },
  {
   "cell_type": "code",
   "execution_count": 18,
   "id": "492f0533",
   "metadata": {},
   "outputs": [],
   "source": [
    "# defining a function to compute different metrics to check performance of a classification model built using statsmodels\n",
    "def model_performance_classification_statsmodels(\n",
    "    model, predictors, target, threshold\n",
    "):\n",
    "    \"\"\"\n",
    "    This is for computing different metrics to check classification model performance\n",
    "\n",
    "    model: classifier\n",
    "    predictors: independent variables\n",
    "    target: dependent variable\n",
    "    threshold: threshold for classifying the observation as class 1\n",
    "    \"\"\"\n",
    "\n",
    "    # checking which probabilities are greater than threshold\n",
    "    pred_temp = model.predict(predictors) > threshold #if is more than threshold then print\n",
    "    # rounding off the above values to get classes\n",
    "    pred = np.round(pred_temp)\n",
    "\n",
    "    acc = accuracy_score(target, pred)  # to compute Accuracy\n",
    "    recall = recall_score(target, pred)  # to compute Recall\n",
    "    precision = precision_score(target, pred)  # to compute Precision\n",
    "    f1 = f1_score(target, pred)  # to compute F1-score\n",
    "\n",
    "    # creating a dataframe of metrics\n",
    "    df_perf = pd.DataFrame(\n",
    "        {\"Accuracy\": acc, \"Recall\": recall, \"Precision\": precision, \"F1\": f1,},\n",
    "        index=[0],\n",
    "    )\n",
    "\n",
    "    return df_perf"
   ]
  },
  {
   "cell_type": "code",
   "execution_count": 19,
   "id": "a740c83f",
   "metadata": {},
   "outputs": [],
   "source": [
    "# defining a function to plot the confusion_matrix of a classification model\n",
    "def confusion_matrix_statsmodels(model, predictors, target, threshold):\n",
    "    \"\"\"\n",
    "    To plot the confusion_matrix with percentages\n",
    "\n",
    "    model: classifier\n",
    "    predictors: independent variables\n",
    "    target: dependent variable\n",
    "    threshold: threshold for classifying the observation as class 1\n",
    "    \"\"\"\n",
    "    y_pred = model.predict(predictors) > threshold\n",
    "    cm = confusion_matrix(target, y_pred) #actual values , predict values\n",
    "    labels = np.asarray(\n",
    "        [\n",
    "            [\"{0:0.0f}\".format(item) + \"\\n{0:.2%}\".format(item / cm.flatten().sum())]\n",
    "            for item in cm.flatten()\n",
    "        ]\n",
    "    ).reshape(2, 2)\n",
    "\n",
    "    plt.figure(figsize=(6, 4))\n",
    "    sns.heatmap(cm, annot=labels, fmt=\"\")\n",
    "    plt.ylabel(\"True label\")\n",
    "    plt.xlabel(\"Predicted label\")"
   ]
  },
  {
   "cell_type": "code",
   "execution_count": 20,
   "id": "58d4b0f0",
   "metadata": {},
   "outputs": [],
   "source": [
    "def read_file_csv(filename):\n",
    "    #read file\n",
    "    df=pd.read_csv(os.path.join('../data/processed/',filename))\n",
    "    df.drop(labels=['Unnamed: 0'],axis=1, inplace=True)\n",
    "    \n",
    "    return df"
   ]
  },
  {
   "cell_type": "code",
   "execution_count": 21,
   "id": "eccd0d23",
   "metadata": {},
   "outputs": [],
   "source": [
    "def read_features_csv(filename):\n",
    "    #read file\n",
    "    selected_features=pd.read_csv(os.path.join(\"../data/processed/\",filename))\n",
    "    selected_features.drop(labels=['Unnamed: 0'],axis=1,inplace=True)\n",
    "    features=selected_features['0'].tolist()\n",
    "    \n",
    "    return features"
   ]
  },
  {
   "cell_type": "code",
   "execution_count": 22,
   "id": "cdb77773",
   "metadata": {},
   "outputs": [],
   "source": [
    "def score_model():\n",
    "    df=read_file_csv('booking_score.csv')\n",
    "    features=read_features_csv('selected_features.csv')\n",
    "    #read the trained model to use\n",
    "    package = '../models/best_model.pkl'\n",
    "    model = pickle.load(open(package, 'rb'))\n",
    "    print('Model imported correctly')\n",
    "    \n",
    "    #Predicting the model over testing data set\n",
    "    X_test = df.drop(['booking_status'], axis=1)\n",
    "    y_test = df[['booking_status']]\n",
    "    #y_pred_test=model.predict(X_test[features])\n",
    "    #Scoring: predict the testing data with the trained model\n",
    "    scores=model.predict(X_test[features])\n",
    "    scores=np.array(scores.to_list()).reshape(-1,1)\n",
    "\n",
    "    #export the solution as DataFrame\n",
    "    df_score = pd.DataFrame(scores, columns=['PREDICT'])\n",
    "    df_score.to_csv('../data/scores/final_score.csv')    \n",
    "    \n",
    "    print('Data predicted on model')\n",
    "    \n",
    "    #Threshold selected\n",
    "    optimal_threshold_curve=0.3\n",
    "    \n",
    "    #We generate diagnostic metrics\n",
    "    confusion_matrix_statsmodels(model, X_test[features], y_test, threshold=optimal_threshold_curve)\n",
    "\n",
    "    df_perf=model_performance_classification_statsmodels(model, X_test[features], y_test, threshold=optimal_threshold_curve)\n",
    "    \n",
    "    return df_perf"
   ]
  },
  {
   "cell_type": "code",
   "execution_count": 23,
   "id": "eb9b2029",
   "metadata": {},
   "outputs": [],
   "source": [
    "def main():\n",
    "    df_perf=score_model()\n",
    "    print('\\n',df_perf)\n",
    "    print('The scoring test has ended')\n"
   ]
  },
  {
   "cell_type": "code",
   "execution_count": 24,
   "id": "06a2b9fd",
   "metadata": {},
   "outputs": [
    {
     "name": "stdout",
     "output_type": "stream",
     "text": [
      "Model imported correctly\n",
      "Data predicted on model\n",
      "\n",
      "    Accuracy    Recall  Precision        F1\n",
      "0  0.782771  0.821203   0.629069  0.712409\n",
      "The scoring test has ended\n"
     ]
    },
    {
     "data": {
      "image/png": "[encoded data removed]",
      "text/plain": [
       "<Figure size 432x288 with 2 Axes>"
      ]
     },
     "metadata": {
      "needs_background": "light"
     },
     "output_type": "display_data"
    }
   ],
   "source": [
    "if __name__ == \"__main__\":    \n",
    "    main()"
   ]
  }
 ],
 "metadata": {
  "kernelspec": {
   "display_name": "Python 3 (ipykernel)",
   "language": "python",
   "name": "python3"
  },
  "language_info": {
   "codemirror_mode": {
    "name": "ipython",
    "version": 3
   },
   "file_extension": ".py",
   "mimetype": "text/x-python",
   "name": "python",
   "nbconvert_exporter": "python",
   "pygments_lexer": "ipython3",
   "version": "3.9.7"
  }
 },
 "nbformat": 4,
 "nbformat_minor": 5
}
