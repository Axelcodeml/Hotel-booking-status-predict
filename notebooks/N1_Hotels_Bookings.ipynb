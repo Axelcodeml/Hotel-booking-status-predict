{
 "cells": [
  {
   "cell_type": "markdown",
   "id": "AT5OogJVFbwu",
   "metadata": {
    "id": "AT5OogJVFbwu"
   },
   "source": [
    "# Prediction of Hotels Booking Cancellation "
   ]
  },
  {
   "cell_type": "markdown",
   "id": "dirty-island",
   "metadata": {
    "id": "dirty-island"
   },
   "source": [
    "## Importing necessary libraries and data"
   ]
  },
  {
   "cell_type": "code",
   "execution_count": 1,
   "id": "126e95e5",
   "metadata": {
    "id": "statewide-still"
   },
   "outputs": [],
   "source": [
    "# To filter the warnings\n",
    "import warnings\n",
    "\n",
    "warnings.filterwarnings(\"ignore\")\n",
    "\n",
    "# Libraries to help with reading and manipulating data\n",
    "import pandas as pd\n",
    "import numpy as np\n",
    "\n",
    "# libaries to help with data visualization\n",
    "import matplotlib.pyplot as plt\n",
    "import seaborn as sns\n",
    "\n",
    "# Library to split data\n",
    "from sklearn.model_selection import train_test_split\n",
    "\n",
    "# To tune different models\n",
    "from sklearn.model_selection import GridSearchCV\n",
    "\n",
    "# To build linear model for statistical analysis and prediction\n",
    "import statsmodels.stats.api as sms\n",
    "from statsmodels.stats.outliers_influence import variance_inflation_factor\n",
    "import statsmodels.api as sm\n",
    "from statsmodels.tools.tools import add_constant\n",
    "from sklearn.linear_model import LogisticRegression\n",
    "from sklearn.tree import DecisionTreeClassifier\n",
    "from sklearn import tree\n",
    "\n",
    "# To get diferent metric scores\n",
    "from sklearn.metrics import (\n",
    "    f1_score,\n",
    "    accuracy_score,\n",
    "    recall_score,\n",
    "    precision_score,\n",
    "    confusion_matrix,\n",
    "    roc_auc_score,\n",
    "    plot_confusion_matrix,\n",
    "    precision_recall_curve,\n",
    "    roc_curve,\n",
    "    make_scorer,    \n",
    ")\n",
    "\n",
    "import warnings\n",
    "from statsmodels.tools.sm_exceptions import ConvergenceWarning\n",
    "warnings.simplefilter('ignore', ConvergenceWarning)\n",
    "\n",
    "# this will help in making the Python code more structured automatically (good coding practice)\n",
    "#%load_ext nb_black"
   ]
  },
  {
   "cell_type": "markdown",
   "id": "desperate-infection",
   "metadata": {
    "id": "desperate-infection"
   },
   "source": [
    "# Section 1\n",
    "## 1.1 Data Overview\n",
    "\n",
    "- Observations\n",
    "- Sanity checks"
   ]
  },
  {
   "cell_type": "code",
   "execution_count": 2,
   "id": "3c80f2ed",
   "metadata": {},
   "outputs": [],
   "source": [
    "df = pd.read_csv(\"../data/raw/booking_original.csv\")"
   ]
  },
  {
   "cell_type": "code",
   "execution_count": 3,
   "id": "50547be3",
   "metadata": {},
   "outputs": [
    {
     "data": {
      "text/html": [
       "<div>\n",
       "<style scoped>\n",
       "    .dataframe tbody tr th:only-of-type {\n",
       "        vertical-align: middle;\n",
       "    }\n",
       "\n",
       "    .dataframe tbody tr th {\n",
       "        vertical-align: top;\n",
       "    }\n",
       "\n",
       "    .dataframe thead th {\n",
       "        text-align: right;\n",
       "    }\n",
       "</style>\n",
       "<table border=\"1\" class=\"dataframe\">\n",
       "  <thead>\n",
       "    <tr style=\"text-align: right;\">\n",
       "      <th></th>\n",
       "      <th>Booking_ID</th>\n",
       "      <th>no_of_adults</th>\n",
       "      <th>no_of_children</th>\n",
       "      <th>no_of_weekend_nights</th>\n",
       "      <th>no_of_week_nights</th>\n",
       "      <th>type_of_meal_plan</th>\n",
       "      <th>required_car_parking_space</th>\n",
       "      <th>room_type_reserved</th>\n",
       "      <th>lead_time</th>\n",
       "      <th>arrival_year</th>\n",
       "      <th>arrival_month</th>\n",
       "      <th>arrival_date</th>\n",
       "      <th>market_segment_type</th>\n",
       "      <th>repeated_guest</th>\n",
       "      <th>no_of_previous_cancellations</th>\n",
       "      <th>no_of_previous_bookings_not_canceled</th>\n",
       "      <th>avg_price_per_room</th>\n",
       "      <th>no_of_special_requests</th>\n",
       "      <th>booking_status</th>\n",
       "    </tr>\n",
       "  </thead>\n",
       "  <tbody>\n",
       "    <tr>\n",
       "      <th>0</th>\n",
       "      <td>INN00001</td>\n",
       "      <td>2</td>\n",
       "      <td>0</td>\n",
       "      <td>1</td>\n",
       "      <td>2</td>\n",
       "      <td>Meal Plan 1</td>\n",
       "      <td>0</td>\n",
       "      <td>Room_Type 1</td>\n",
       "      <td>224</td>\n",
       "      <td>2017</td>\n",
       "      <td>10</td>\n",
       "      <td>2</td>\n",
       "      <td>Offline</td>\n",
       "      <td>0</td>\n",
       "      <td>0</td>\n",
       "      <td>0</td>\n",
       "      <td>65.00</td>\n",
       "      <td>0</td>\n",
       "      <td>Not_Canceled</td>\n",
       "    </tr>\n",
       "    <tr>\n",
       "      <th>1</th>\n",
       "      <td>INN00002</td>\n",
       "      <td>2</td>\n",
       "      <td>0</td>\n",
       "      <td>2</td>\n",
       "      <td>3</td>\n",
       "      <td>Not Selected</td>\n",
       "      <td>0</td>\n",
       "      <td>Room_Type 1</td>\n",
       "      <td>5</td>\n",
       "      <td>2018</td>\n",
       "      <td>11</td>\n",
       "      <td>6</td>\n",
       "      <td>Online</td>\n",
       "      <td>0</td>\n",
       "      <td>0</td>\n",
       "      <td>0</td>\n",
       "      <td>106.68</td>\n",
       "      <td>1</td>\n",
       "      <td>Not_Canceled</td>\n",
       "    </tr>\n",
       "    <tr>\n",
       "      <th>2</th>\n",
       "      <td>INN00003</td>\n",
       "      <td>1</td>\n",
       "      <td>0</td>\n",
       "      <td>2</td>\n",
       "      <td>1</td>\n",
       "      <td>Meal Plan 1</td>\n",
       "      <td>0</td>\n",
       "      <td>Room_Type 1</td>\n",
       "      <td>1</td>\n",
       "      <td>2018</td>\n",
       "      <td>2</td>\n",
       "      <td>28</td>\n",
       "      <td>Online</td>\n",
       "      <td>0</td>\n",
       "      <td>0</td>\n",
       "      <td>0</td>\n",
       "      <td>60.00</td>\n",
       "      <td>0</td>\n",
       "      <td>Canceled</td>\n",
       "    </tr>\n",
       "    <tr>\n",
       "      <th>3</th>\n",
       "      <td>INN00004</td>\n",
       "      <td>2</td>\n",
       "      <td>0</td>\n",
       "      <td>0</td>\n",
       "      <td>2</td>\n",
       "      <td>Meal Plan 1</td>\n",
       "      <td>0</td>\n",
       "      <td>Room_Type 1</td>\n",
       "      <td>211</td>\n",
       "      <td>2018</td>\n",
       "      <td>5</td>\n",
       "      <td>20</td>\n",
       "      <td>Online</td>\n",
       "      <td>0</td>\n",
       "      <td>0</td>\n",
       "      <td>0</td>\n",
       "      <td>100.00</td>\n",
       "      <td>0</td>\n",
       "      <td>Canceled</td>\n",
       "    </tr>\n",
       "    <tr>\n",
       "      <th>4</th>\n",
       "      <td>INN00005</td>\n",
       "      <td>2</td>\n",
       "      <td>0</td>\n",
       "      <td>1</td>\n",
       "      <td>1</td>\n",
       "      <td>Not Selected</td>\n",
       "      <td>0</td>\n",
       "      <td>Room_Type 1</td>\n",
       "      <td>48</td>\n",
       "      <td>2018</td>\n",
       "      <td>4</td>\n",
       "      <td>11</td>\n",
       "      <td>Online</td>\n",
       "      <td>0</td>\n",
       "      <td>0</td>\n",
       "      <td>0</td>\n",
       "      <td>94.50</td>\n",
       "      <td>0</td>\n",
       "      <td>Canceled</td>\n",
       "    </tr>\n",
       "  </tbody>\n",
       "</table>\n",
       "</div>"
      ],
      "text/plain": [
       "  Booking_ID  no_of_adults  no_of_children  no_of_weekend_nights  \\\n",
       "0   INN00001             2               0                     1   \n",
       "1   INN00002             2               0                     2   \n",
       "2   INN00003             1               0                     2   \n",
       "3   INN00004             2               0                     0   \n",
       "4   INN00005             2               0                     1   \n",
       "\n",
       "   no_of_week_nights type_of_meal_plan  required_car_parking_space  \\\n",
       "0                  2       Meal Plan 1                           0   \n",
       "1                  3      Not Selected                           0   \n",
       "2                  1       Meal Plan 1                           0   \n",
       "3                  2       Meal Plan 1                           0   \n",
       "4                  1      Not Selected                           0   \n",
       "\n",
       "  room_type_reserved  lead_time  arrival_year  arrival_month  arrival_date  \\\n",
       "0        Room_Type 1        224          2017             10             2   \n",
       "1        Room_Type 1          5          2018             11             6   \n",
       "2        Room_Type 1          1          2018              2            28   \n",
       "3        Room_Type 1        211          2018              5            20   \n",
       "4        Room_Type 1         48          2018              4            11   \n",
       "\n",
       "  market_segment_type  repeated_guest  no_of_previous_cancellations  \\\n",
       "0             Offline               0                             0   \n",
       "1              Online               0                             0   \n",
       "2              Online               0                             0   \n",
       "3              Online               0                             0   \n",
       "4              Online               0                             0   \n",
       "\n",
       "   no_of_previous_bookings_not_canceled  avg_price_per_room  \\\n",
       "0                                     0               65.00   \n",
       "1                                     0              106.68   \n",
       "2                                     0               60.00   \n",
       "3                                     0              100.00   \n",
       "4                                     0               94.50   \n",
       "\n",
       "   no_of_special_requests booking_status  \n",
       "0                       0   Not_Canceled  \n",
       "1                       1   Not_Canceled  \n",
       "2                       0       Canceled  \n",
       "3                       0       Canceled  \n",
       "4                       0       Canceled  "
      ]
     },
     "execution_count": 3,
     "metadata": {},
     "output_type": "execute_result"
    }
   ],
   "source": [
    "df.head(n=5)"
   ]
  },
  {
   "cell_type": "code",
   "execution_count": 4,
   "id": "dfd27ba3",
   "metadata": {
    "scrolled": true
   },
   "outputs": [
    {
     "data": {
      "text/html": [
       "<div>\n",
       "<style scoped>\n",
       "    .dataframe tbody tr th:only-of-type {\n",
       "        vertical-align: middle;\n",
       "    }\n",
       "\n",
       "    .dataframe tbody tr th {\n",
       "        vertical-align: top;\n",
       "    }\n",
       "\n",
       "    .dataframe thead th {\n",
       "        text-align: right;\n",
       "    }\n",
       "</style>\n",
       "<table border=\"1\" class=\"dataframe\">\n",
       "  <thead>\n",
       "    <tr style=\"text-align: right;\">\n",
       "      <th></th>\n",
       "      <th>Booking_ID</th>\n",
       "      <th>no_of_adults</th>\n",
       "      <th>no_of_children</th>\n",
       "      <th>no_of_weekend_nights</th>\n",
       "      <th>no_of_week_nights</th>\n",
       "      <th>type_of_meal_plan</th>\n",
       "      <th>required_car_parking_space</th>\n",
       "      <th>room_type_reserved</th>\n",
       "      <th>lead_time</th>\n",
       "      <th>arrival_year</th>\n",
       "      <th>arrival_month</th>\n",
       "      <th>arrival_date</th>\n",
       "      <th>market_segment_type</th>\n",
       "      <th>repeated_guest</th>\n",
       "      <th>no_of_previous_cancellations</th>\n",
       "      <th>no_of_previous_bookings_not_canceled</th>\n",
       "      <th>avg_price_per_room</th>\n",
       "      <th>no_of_special_requests</th>\n",
       "      <th>booking_status</th>\n",
       "    </tr>\n",
       "  </thead>\n",
       "  <tbody>\n",
       "    <tr>\n",
       "      <th>30392</th>\n",
       "      <td>INN30393</td>\n",
       "      <td>1</td>\n",
       "      <td>0</td>\n",
       "      <td>1</td>\n",
       "      <td>0</td>\n",
       "      <td>Not Selected</td>\n",
       "      <td>0</td>\n",
       "      <td>Room_Type 1</td>\n",
       "      <td>53</td>\n",
       "      <td>2018</td>\n",
       "      <td>9</td>\n",
       "      <td>11</td>\n",
       "      <td>Online</td>\n",
       "      <td>0</td>\n",
       "      <td>0</td>\n",
       "      <td>0</td>\n",
       "      <td>94.32</td>\n",
       "      <td>0</td>\n",
       "      <td>Not_Canceled</td>\n",
       "    </tr>\n",
       "    <tr>\n",
       "      <th>6685</th>\n",
       "      <td>INN06686</td>\n",
       "      <td>2</td>\n",
       "      <td>0</td>\n",
       "      <td>1</td>\n",
       "      <td>2</td>\n",
       "      <td>Meal Plan 1</td>\n",
       "      <td>0</td>\n",
       "      <td>Room_Type 1</td>\n",
       "      <td>63</td>\n",
       "      <td>2018</td>\n",
       "      <td>4</td>\n",
       "      <td>22</td>\n",
       "      <td>Online</td>\n",
       "      <td>0</td>\n",
       "      <td>0</td>\n",
       "      <td>0</td>\n",
       "      <td>105.30</td>\n",
       "      <td>1</td>\n",
       "      <td>Canceled</td>\n",
       "    </tr>\n",
       "    <tr>\n",
       "      <th>8369</th>\n",
       "      <td>INN08370</td>\n",
       "      <td>2</td>\n",
       "      <td>0</td>\n",
       "      <td>2</td>\n",
       "      <td>3</td>\n",
       "      <td>Meal Plan 1</td>\n",
       "      <td>0</td>\n",
       "      <td>Room_Type 4</td>\n",
       "      <td>55</td>\n",
       "      <td>2018</td>\n",
       "      <td>9</td>\n",
       "      <td>11</td>\n",
       "      <td>Online</td>\n",
       "      <td>0</td>\n",
       "      <td>0</td>\n",
       "      <td>0</td>\n",
       "      <td>106.24</td>\n",
       "      <td>0</td>\n",
       "      <td>Not_Canceled</td>\n",
       "    </tr>\n",
       "    <tr>\n",
       "      <th>2055</th>\n",
       "      <td>INN02056</td>\n",
       "      <td>2</td>\n",
       "      <td>0</td>\n",
       "      <td>0</td>\n",
       "      <td>2</td>\n",
       "      <td>Not Selected</td>\n",
       "      <td>0</td>\n",
       "      <td>Room_Type 1</td>\n",
       "      <td>53</td>\n",
       "      <td>2017</td>\n",
       "      <td>12</td>\n",
       "      <td>29</td>\n",
       "      <td>Online</td>\n",
       "      <td>0</td>\n",
       "      <td>0</td>\n",
       "      <td>0</td>\n",
       "      <td>81.00</td>\n",
       "      <td>1</td>\n",
       "      <td>Not_Canceled</td>\n",
       "    </tr>\n",
       "    <tr>\n",
       "      <th>10969</th>\n",
       "      <td>INN10970</td>\n",
       "      <td>1</td>\n",
       "      <td>0</td>\n",
       "      <td>2</td>\n",
       "      <td>4</td>\n",
       "      <td>Meal Plan 1</td>\n",
       "      <td>0</td>\n",
       "      <td>Room_Type 1</td>\n",
       "      <td>245</td>\n",
       "      <td>2018</td>\n",
       "      <td>7</td>\n",
       "      <td>6</td>\n",
       "      <td>Offline</td>\n",
       "      <td>0</td>\n",
       "      <td>0</td>\n",
       "      <td>0</td>\n",
       "      <td>110.00</td>\n",
       "      <td>0</td>\n",
       "      <td>Canceled</td>\n",
       "    </tr>\n",
       "    <tr>\n",
       "      <th>24881</th>\n",
       "      <td>INN24882</td>\n",
       "      <td>2</td>\n",
       "      <td>0</td>\n",
       "      <td>3</td>\n",
       "      <td>7</td>\n",
       "      <td>Meal Plan 1</td>\n",
       "      <td>0</td>\n",
       "      <td>Room_Type 2</td>\n",
       "      <td>231</td>\n",
       "      <td>2018</td>\n",
       "      <td>8</td>\n",
       "      <td>1</td>\n",
       "      <td>Online</td>\n",
       "      <td>0</td>\n",
       "      <td>0</td>\n",
       "      <td>0</td>\n",
       "      <td>81.82</td>\n",
       "      <td>2</td>\n",
       "      <td>Canceled</td>\n",
       "    </tr>\n",
       "  </tbody>\n",
       "</table>\n",
       "</div>"
      ],
      "text/plain": [
       "      Booking_ID  no_of_adults  no_of_children  no_of_weekend_nights  \\\n",
       "30392   INN30393             1               0                     1   \n",
       "6685    INN06686             2               0                     1   \n",
       "8369    INN08370             2               0                     2   \n",
       "2055    INN02056             2               0                     0   \n",
       "10969   INN10970             1               0                     2   \n",
       "24881   INN24882             2               0                     3   \n",
       "\n",
       "       no_of_week_nights type_of_meal_plan  required_car_parking_space  \\\n",
       "30392                  0      Not Selected                           0   \n",
       "6685                   2       Meal Plan 1                           0   \n",
       "8369                   3       Meal Plan 1                           0   \n",
       "2055                   2      Not Selected                           0   \n",
       "10969                  4       Meal Plan 1                           0   \n",
       "24881                  7       Meal Plan 1                           0   \n",
       "\n",
       "      room_type_reserved  lead_time  arrival_year  arrival_month  \\\n",
       "30392        Room_Type 1         53          2018              9   \n",
       "6685         Room_Type 1         63          2018              4   \n",
       "8369         Room_Type 4         55          2018              9   \n",
       "2055         Room_Type 1         53          2017             12   \n",
       "10969        Room_Type 1        245          2018              7   \n",
       "24881        Room_Type 2        231          2018              8   \n",
       "\n",
       "       arrival_date market_segment_type  repeated_guest  \\\n",
       "30392            11              Online               0   \n",
       "6685             22              Online               0   \n",
       "8369             11              Online               0   \n",
       "2055             29              Online               0   \n",
       "10969             6             Offline               0   \n",
       "24881             1              Online               0   \n",
       "\n",
       "       no_of_previous_cancellations  no_of_previous_bookings_not_canceled  \\\n",
       "30392                             0                                     0   \n",
       "6685                              0                                     0   \n",
       "8369                              0                                     0   \n",
       "2055                              0                                     0   \n",
       "10969                             0                                     0   \n",
       "24881                             0                                     0   \n",
       "\n",
       "       avg_price_per_room  no_of_special_requests booking_status  \n",
       "30392               94.32                       0   Not_Canceled  \n",
       "6685               105.30                       1       Canceled  \n",
       "8369               106.24                       0   Not_Canceled  \n",
       "2055                81.00                       1   Not_Canceled  \n",
       "10969              110.00                       0       Canceled  \n",
       "24881               81.82                       2       Canceled  "
      ]
     },
     "execution_count": 4,
     "metadata": {},
     "output_type": "execute_result"
    }
   ],
   "source": [
    "df.sample(n=6, random_state=1)"
   ]
  },
  {
   "cell_type": "code",
   "execution_count": 5,
   "id": "fffe41b5",
   "metadata": {},
   "outputs": [
    {
     "data": {
      "text/plain": [
       "(36275, 19)"
      ]
     },
     "execution_count": 5,
     "metadata": {},
     "output_type": "execute_result"
    }
   ],
   "source": [
    "df.shape"
   ]
  },
  {
   "cell_type": "markdown",
   "id": "fba8ec19",
   "metadata": {},
   "source": [
    "**Let's see duplicate data**"
   ]
  },
  {
   "cell_type": "code",
   "execution_count": 6,
   "id": "881ddb62",
   "metadata": {},
   "outputs": [
    {
     "data": {
      "text/plain": [
       "Booking_ID                              0\n",
       "no_of_adults                            0\n",
       "no_of_children                          0\n",
       "no_of_weekend_nights                    0\n",
       "no_of_week_nights                       0\n",
       "type_of_meal_plan                       0\n",
       "required_car_parking_space              0\n",
       "room_type_reserved                      0\n",
       "lead_time                               0\n",
       "arrival_year                            0\n",
       "arrival_month                           0\n",
       "arrival_date                            0\n",
       "market_segment_type                     0\n",
       "repeated_guest                          0\n",
       "no_of_previous_cancellations            0\n",
       "no_of_previous_bookings_not_canceled    0\n",
       "avg_price_per_room                      0\n",
       "no_of_special_requests                  0\n",
       "booking_status                          0\n",
       "dtype: int64"
      ]
     },
     "execution_count": 6,
     "metadata": {},
     "output_type": "execute_result"
    }
   ],
   "source": [
    "df[df.duplicated()].count()"
   ]
  },
  {
   "cell_type": "markdown",
   "id": "37dd0d1c",
   "metadata": {},
   "source": [
    "* There is no duplicate data"
   ]
  },
  {
   "cell_type": "code",
   "execution_count": 7,
   "id": "232badb5",
   "metadata": {},
   "outputs": [
    {
     "name": "stdout",
     "output_type": "stream",
     "text": [
      "<class 'pandas.core.frame.DataFrame'>\n",
      "RangeIndex: 36275 entries, 0 to 36274\n",
      "Data columns (total 19 columns):\n",
      " #   Column                                Non-Null Count  Dtype  \n",
      "---  ------                                --------------  -----  \n",
      " 0   Booking_ID                            36275 non-null  object \n",
      " 1   no_of_adults                          36275 non-null  int64  \n",
      " 2   no_of_children                        36275 non-null  int64  \n",
      " 3   no_of_weekend_nights                  36275 non-null  int64  \n",
      " 4   no_of_week_nights                     36275 non-null  int64  \n",
      " 5   type_of_meal_plan                     36275 non-null  object \n",
      " 6   required_car_parking_space            36275 non-null  int64  \n",
      " 7   room_type_reserved                    36275 non-null  object \n",
      " 8   lead_time                             36275 non-null  int64  \n",
      " 9   arrival_year                          36275 non-null  int64  \n",
      " 10  arrival_month                         36275 non-null  int64  \n",
      " 11  arrival_date                          36275 non-null  int64  \n",
      " 12  market_segment_type                   36275 non-null  object \n",
      " 13  repeated_guest                        36275 non-null  int64  \n",
      " 14  no_of_previous_cancellations          36275 non-null  int64  \n",
      " 15  no_of_previous_bookings_not_canceled  36275 non-null  int64  \n",
      " 16  avg_price_per_room                    36275 non-null  float64\n",
      " 17  no_of_special_requests                36275 non-null  int64  \n",
      " 18  booking_status                        36275 non-null  object \n",
      "dtypes: float64(1), int64(13), object(5)\n",
      "memory usage: 5.3+ MB\n"
     ]
    }
   ],
   "source": [
    "df.info()"
   ]
  },
  {
   "cell_type": "code",
   "execution_count": 8,
   "id": "113d5f43",
   "metadata": {
    "scrolled": true
   },
   "outputs": [
    {
     "data": {
      "text/html": [
       "<div>\n",
       "<style scoped>\n",
       "    .dataframe tbody tr th:only-of-type {\n",
       "        vertical-align: middle;\n",
       "    }\n",
       "\n",
       "    .dataframe tbody tr th {\n",
       "        vertical-align: top;\n",
       "    }\n",
       "\n",
       "    .dataframe thead th {\n",
       "        text-align: right;\n",
       "    }\n",
       "</style>\n",
       "<table border=\"1\" class=\"dataframe\">\n",
       "  <thead>\n",
       "    <tr style=\"text-align: right;\">\n",
       "      <th></th>\n",
       "      <th>count</th>\n",
       "      <th>unique</th>\n",
       "      <th>top</th>\n",
       "      <th>freq</th>\n",
       "      <th>mean</th>\n",
       "      <th>std</th>\n",
       "      <th>min</th>\n",
       "      <th>25%</th>\n",
       "      <th>50%</th>\n",
       "      <th>75%</th>\n",
       "      <th>max</th>\n",
       "    </tr>\n",
       "  </thead>\n",
       "  <tbody>\n",
       "    <tr>\n",
       "      <th>Booking_ID</th>\n",
       "      <td>36275</td>\n",
       "      <td>36275</td>\n",
       "      <td>INN00001</td>\n",
       "      <td>1</td>\n",
       "      <td>NaN</td>\n",
       "      <td>NaN</td>\n",
       "      <td>NaN</td>\n",
       "      <td>NaN</td>\n",
       "      <td>NaN</td>\n",
       "      <td>NaN</td>\n",
       "      <td>NaN</td>\n",
       "    </tr>\n",
       "    <tr>\n",
       "      <th>no_of_adults</th>\n",
       "      <td>36275.0</td>\n",
       "      <td>NaN</td>\n",
       "      <td>NaN</td>\n",
       "      <td>NaN</td>\n",
       "      <td>1.844962</td>\n",
       "      <td>0.518715</td>\n",
       "      <td>0.0</td>\n",
       "      <td>2.0</td>\n",
       "      <td>2.0</td>\n",
       "      <td>2.0</td>\n",
       "      <td>4.0</td>\n",
       "    </tr>\n",
       "    <tr>\n",
       "      <th>no_of_children</th>\n",
       "      <td>36275.0</td>\n",
       "      <td>NaN</td>\n",
       "      <td>NaN</td>\n",
       "      <td>NaN</td>\n",
       "      <td>0.105279</td>\n",
       "      <td>0.402648</td>\n",
       "      <td>0.0</td>\n",
       "      <td>0.0</td>\n",
       "      <td>0.0</td>\n",
       "      <td>0.0</td>\n",
       "      <td>10.0</td>\n",
       "    </tr>\n",
       "    <tr>\n",
       "      <th>no_of_weekend_nights</th>\n",
       "      <td>36275.0</td>\n",
       "      <td>NaN</td>\n",
       "      <td>NaN</td>\n",
       "      <td>NaN</td>\n",
       "      <td>0.810724</td>\n",
       "      <td>0.870644</td>\n",
       "      <td>0.0</td>\n",
       "      <td>0.0</td>\n",
       "      <td>1.0</td>\n",
       "      <td>2.0</td>\n",
       "      <td>7.0</td>\n",
       "    </tr>\n",
       "    <tr>\n",
       "      <th>no_of_week_nights</th>\n",
       "      <td>36275.0</td>\n",
       "      <td>NaN</td>\n",
       "      <td>NaN</td>\n",
       "      <td>NaN</td>\n",
       "      <td>2.2043</td>\n",
       "      <td>1.410905</td>\n",
       "      <td>0.0</td>\n",
       "      <td>1.0</td>\n",
       "      <td>2.0</td>\n",
       "      <td>3.0</td>\n",
       "      <td>17.0</td>\n",
       "    </tr>\n",
       "    <tr>\n",
       "      <th>type_of_meal_plan</th>\n",
       "      <td>36275</td>\n",
       "      <td>4</td>\n",
       "      <td>Meal Plan 1</td>\n",
       "      <td>27835</td>\n",
       "      <td>NaN</td>\n",
       "      <td>NaN</td>\n",
       "      <td>NaN</td>\n",
       "      <td>NaN</td>\n",
       "      <td>NaN</td>\n",
       "      <td>NaN</td>\n",
       "      <td>NaN</td>\n",
       "    </tr>\n",
       "    <tr>\n",
       "      <th>required_car_parking_space</th>\n",
       "      <td>36275.0</td>\n",
       "      <td>NaN</td>\n",
       "      <td>NaN</td>\n",
       "      <td>NaN</td>\n",
       "      <td>0.030986</td>\n",
       "      <td>0.173281</td>\n",
       "      <td>0.0</td>\n",
       "      <td>0.0</td>\n",
       "      <td>0.0</td>\n",
       "      <td>0.0</td>\n",
       "      <td>1.0</td>\n",
       "    </tr>\n",
       "    <tr>\n",
       "      <th>room_type_reserved</th>\n",
       "      <td>36275</td>\n",
       "      <td>7</td>\n",
       "      <td>Room_Type 1</td>\n",
       "      <td>28130</td>\n",
       "      <td>NaN</td>\n",
       "      <td>NaN</td>\n",
       "      <td>NaN</td>\n",
       "      <td>NaN</td>\n",
       "      <td>NaN</td>\n",
       "      <td>NaN</td>\n",
       "      <td>NaN</td>\n",
       "    </tr>\n",
       "    <tr>\n",
       "      <th>lead_time</th>\n",
       "      <td>36275.0</td>\n",
       "      <td>NaN</td>\n",
       "      <td>NaN</td>\n",
       "      <td>NaN</td>\n",
       "      <td>85.232557</td>\n",
       "      <td>85.930817</td>\n",
       "      <td>0.0</td>\n",
       "      <td>17.0</td>\n",
       "      <td>57.0</td>\n",
       "      <td>126.0</td>\n",
       "      <td>443.0</td>\n",
       "    </tr>\n",
       "    <tr>\n",
       "      <th>arrival_year</th>\n",
       "      <td>36275.0</td>\n",
       "      <td>NaN</td>\n",
       "      <td>NaN</td>\n",
       "      <td>NaN</td>\n",
       "      <td>2017.820427</td>\n",
       "      <td>0.383836</td>\n",
       "      <td>2017.0</td>\n",
       "      <td>2018.0</td>\n",
       "      <td>2018.0</td>\n",
       "      <td>2018.0</td>\n",
       "      <td>2018.0</td>\n",
       "    </tr>\n",
       "    <tr>\n",
       "      <th>arrival_month</th>\n",
       "      <td>36275.0</td>\n",
       "      <td>NaN</td>\n",
       "      <td>NaN</td>\n",
       "      <td>NaN</td>\n",
       "      <td>7.423653</td>\n",
       "      <td>3.069894</td>\n",
       "      <td>1.0</td>\n",
       "      <td>5.0</td>\n",
       "      <td>8.0</td>\n",
       "      <td>10.0</td>\n",
       "      <td>12.0</td>\n",
       "    </tr>\n",
       "    <tr>\n",
       "      <th>arrival_date</th>\n",
       "      <td>36275.0</td>\n",
       "      <td>NaN</td>\n",
       "      <td>NaN</td>\n",
       "      <td>NaN</td>\n",
       "      <td>15.596995</td>\n",
       "      <td>8.740447</td>\n",
       "      <td>1.0</td>\n",
       "      <td>8.0</td>\n",
       "      <td>16.0</td>\n",
       "      <td>23.0</td>\n",
       "      <td>31.0</td>\n",
       "    </tr>\n",
       "    <tr>\n",
       "      <th>market_segment_type</th>\n",
       "      <td>36275</td>\n",
       "      <td>5</td>\n",
       "      <td>Online</td>\n",
       "      <td>23214</td>\n",
       "      <td>NaN</td>\n",
       "      <td>NaN</td>\n",
       "      <td>NaN</td>\n",
       "      <td>NaN</td>\n",
       "      <td>NaN</td>\n",
       "      <td>NaN</td>\n",
       "      <td>NaN</td>\n",
       "    </tr>\n",
       "    <tr>\n",
       "      <th>repeated_guest</th>\n",
       "      <td>36275.0</td>\n",
       "      <td>NaN</td>\n",
       "      <td>NaN</td>\n",
       "      <td>NaN</td>\n",
       "      <td>0.025637</td>\n",
       "      <td>0.158053</td>\n",
       "      <td>0.0</td>\n",
       "      <td>0.0</td>\n",
       "      <td>0.0</td>\n",
       "      <td>0.0</td>\n",
       "      <td>1.0</td>\n",
       "    </tr>\n",
       "    <tr>\n",
       "      <th>no_of_previous_cancellations</th>\n",
       "      <td>36275.0</td>\n",
       "      <td>NaN</td>\n",
       "      <td>NaN</td>\n",
       "      <td>NaN</td>\n",
       "      <td>0.023349</td>\n",
       "      <td>0.368331</td>\n",
       "      <td>0.0</td>\n",
       "      <td>0.0</td>\n",
       "      <td>0.0</td>\n",
       "      <td>0.0</td>\n",
       "      <td>13.0</td>\n",
       "    </tr>\n",
       "    <tr>\n",
       "      <th>no_of_previous_bookings_not_canceled</th>\n",
       "      <td>36275.0</td>\n",
       "      <td>NaN</td>\n",
       "      <td>NaN</td>\n",
       "      <td>NaN</td>\n",
       "      <td>0.153411</td>\n",
       "      <td>1.754171</td>\n",
       "      <td>0.0</td>\n",
       "      <td>0.0</td>\n",
       "      <td>0.0</td>\n",
       "      <td>0.0</td>\n",
       "      <td>58.0</td>\n",
       "    </tr>\n",
       "    <tr>\n",
       "      <th>avg_price_per_room</th>\n",
       "      <td>36275.0</td>\n",
       "      <td>NaN</td>\n",
       "      <td>NaN</td>\n",
       "      <td>NaN</td>\n",
       "      <td>103.423539</td>\n",
       "      <td>35.089424</td>\n",
       "      <td>0.0</td>\n",
       "      <td>80.3</td>\n",
       "      <td>99.45</td>\n",
       "      <td>120.0</td>\n",
       "      <td>540.0</td>\n",
       "    </tr>\n",
       "    <tr>\n",
       "      <th>no_of_special_requests</th>\n",
       "      <td>36275.0</td>\n",
       "      <td>NaN</td>\n",
       "      <td>NaN</td>\n",
       "      <td>NaN</td>\n",
       "      <td>0.619655</td>\n",
       "      <td>0.786236</td>\n",
       "      <td>0.0</td>\n",
       "      <td>0.0</td>\n",
       "      <td>0.0</td>\n",
       "      <td>1.0</td>\n",
       "      <td>5.0</td>\n",
       "    </tr>\n",
       "    <tr>\n",
       "      <th>booking_status</th>\n",
       "      <td>36275</td>\n",
       "      <td>2</td>\n",
       "      <td>Not_Canceled</td>\n",
       "      <td>24390</td>\n",
       "      <td>NaN</td>\n",
       "      <td>NaN</td>\n",
       "      <td>NaN</td>\n",
       "      <td>NaN</td>\n",
       "      <td>NaN</td>\n",
       "      <td>NaN</td>\n",
       "      <td>NaN</td>\n",
       "    </tr>\n",
       "  </tbody>\n",
       "</table>\n",
       "</div>"
      ],
      "text/plain": [
       "                                        count unique           top   freq  \\\n",
       "Booking_ID                              36275  36275      INN00001      1   \n",
       "no_of_adults                          36275.0    NaN           NaN    NaN   \n",
       "no_of_children                        36275.0    NaN           NaN    NaN   \n",
       "no_of_weekend_nights                  36275.0    NaN           NaN    NaN   \n",
       "no_of_week_nights                     36275.0    NaN           NaN    NaN   \n",
       "type_of_meal_plan                       36275      4   Meal Plan 1  27835   \n",
       "required_car_parking_space            36275.0    NaN           NaN    NaN   \n",
       "room_type_reserved                      36275      7   Room_Type 1  28130   \n",
       "lead_time                             36275.0    NaN           NaN    NaN   \n",
       "arrival_year                          36275.0    NaN           NaN    NaN   \n",
       "arrival_month                         36275.0    NaN           NaN    NaN   \n",
       "arrival_date                          36275.0    NaN           NaN    NaN   \n",
       "market_segment_type                     36275      5        Online  23214   \n",
       "repeated_guest                        36275.0    NaN           NaN    NaN   \n",
       "no_of_previous_cancellations          36275.0    NaN           NaN    NaN   \n",
       "no_of_previous_bookings_not_canceled  36275.0    NaN           NaN    NaN   \n",
       "avg_price_per_room                    36275.0    NaN           NaN    NaN   \n",
       "no_of_special_requests                36275.0    NaN           NaN    NaN   \n",
       "booking_status                          36275      2  Not_Canceled  24390   \n",
       "\n",
       "                                             mean        std     min     25%  \\\n",
       "Booking_ID                                    NaN        NaN     NaN     NaN   \n",
       "no_of_adults                             1.844962   0.518715     0.0     2.0   \n",
       "no_of_children                           0.105279   0.402648     0.0     0.0   \n",
       "no_of_weekend_nights                     0.810724   0.870644     0.0     0.0   \n",
       "no_of_week_nights                          2.2043   1.410905     0.0     1.0   \n",
       "type_of_meal_plan                             NaN        NaN     NaN     NaN   \n",
       "required_car_parking_space               0.030986   0.173281     0.0     0.0   \n",
       "room_type_reserved                            NaN        NaN     NaN     NaN   \n",
       "lead_time                               85.232557  85.930817     0.0    17.0   \n",
       "arrival_year                          2017.820427   0.383836  2017.0  2018.0   \n",
       "arrival_month                            7.423653   3.069894     1.0     5.0   \n",
       "arrival_date                            15.596995   8.740447     1.0     8.0   \n",
       "market_segment_type                           NaN        NaN     NaN     NaN   \n",
       "repeated_guest                           0.025637   0.158053     0.0     0.0   \n",
       "no_of_previous_cancellations             0.023349   0.368331     0.0     0.0   \n",
       "no_of_previous_bookings_not_canceled     0.153411   1.754171     0.0     0.0   \n",
       "avg_price_per_room                     103.423539  35.089424     0.0    80.3   \n",
       "no_of_special_requests                   0.619655   0.786236     0.0     0.0   \n",
       "booking_status                                NaN        NaN     NaN     NaN   \n",
       "\n",
       "                                         50%     75%     max  \n",
       "Booking_ID                               NaN     NaN     NaN  \n",
       "no_of_adults                             2.0     2.0     4.0  \n",
       "no_of_children                           0.0     0.0    10.0  \n",
       "no_of_weekend_nights                     1.0     2.0     7.0  \n",
       "no_of_week_nights                        2.0     3.0    17.0  \n",
       "type_of_meal_plan                        NaN     NaN     NaN  \n",
       "required_car_parking_space               0.0     0.0     1.0  \n",
       "room_type_reserved                       NaN     NaN     NaN  \n",
       "lead_time                               57.0   126.0   443.0  \n",
       "arrival_year                          2018.0  2018.0  2018.0  \n",
       "arrival_month                            8.0    10.0    12.0  \n",
       "arrival_date                            16.0    23.0    31.0  \n",
       "market_segment_type                      NaN     NaN     NaN  \n",
       "repeated_guest                           0.0     0.0     1.0  \n",
       "no_of_previous_cancellations             0.0     0.0    13.0  \n",
       "no_of_previous_bookings_not_canceled     0.0     0.0    58.0  \n",
       "avg_price_per_room                     99.45   120.0   540.0  \n",
       "no_of_special_requests                   0.0     1.0     5.0  \n",
       "booking_status                           NaN     NaN     NaN  "
      ]
     },
     "execution_count": 8,
     "metadata": {},
     "output_type": "execute_result"
    }
   ],
   "source": [
    "df.describe(include=\"all\").T"
   ]
  },
  {
   "cell_type": "markdown",
   "id": "155b0392",
   "metadata": {},
   "source": [
    "## 1.2 Data Preprocessing\n",
    "\n",
    "- Missing value treatment (if needed)\n",
    "- Feature engineering (if needed)\n",
    "- Outlier detection and treatment (if needed)\n",
    "- Preparing data for modeling \n",
    "- Any other preprocessing steps (if needed)"
   ]
  },
  {
   "cell_type": "markdown",
   "id": "2c610367",
   "metadata": {},
   "source": [
    "We gonna change the variables: required_car_parking_space, repeated_guest into categorical variables"
   ]
  },
  {
   "cell_type": "code",
   "execution_count": 9,
   "id": "95936ef9",
   "metadata": {},
   "outputs": [],
   "source": [
    "df['required_car_parking_space'] = df['required_car_parking_space'].astype(\"object\") \n",
    "df['repeated_guest'] = df['repeated_guest'].astype(\"object\")"
   ]
  },
  {
   "cell_type": "markdown",
   "id": "c03562ef",
   "metadata": {},
   "source": [
    "We gonna replace the binary data by strings 'Yes' or 'No'"
   ]
  },
  {
   "cell_type": "code",
   "execution_count": 10,
   "id": "1ad1071a",
   "metadata": {},
   "outputs": [],
   "source": [
    "index_aux=df[df['required_car_parking_space']==1].index.tolist()\n",
    "df.loc[index_aux,'required_car_parking_space']='Yes'\n",
    "index_aux=df[df['required_car_parking_space']==0].index.tolist()\n",
    "df.loc[index_aux,'required_car_parking_space']='No'\n",
    "\n",
    "index_aux=df[df['repeated_guest']==1].index.tolist()\n",
    "df.loc[index_aux,'repeated_guest']='Yes'\n",
    "index_aux=df[df['repeated_guest']==0].index.tolist()\n",
    "df.loc[index_aux,'repeated_guest']='No'"
   ]
  },
  {
   "cell_type": "code",
   "execution_count": 11,
   "id": "d3d06833",
   "metadata": {},
   "outputs": [],
   "source": [
    "df[\"booking_status\"] = df[\"booking_status\"].apply(lambda x: 1 if x == \"Canceled\" else 0)"
   ]
  },
  {
   "cell_type": "code",
   "execution_count": 12,
   "id": "931a6e07",
   "metadata": {
    "scrolled": false
   },
   "outputs": [
    {
     "data": {
      "text/html": [
       "<div>\n",
       "<style scoped>\n",
       "    .dataframe tbody tr th:only-of-type {\n",
       "        vertical-align: middle;\n",
       "    }\n",
       "\n",
       "    .dataframe tbody tr th {\n",
       "        vertical-align: top;\n",
       "    }\n",
       "\n",
       "    .dataframe thead th {\n",
       "        text-align: right;\n",
       "    }\n",
       "</style>\n",
       "<table border=\"1\" class=\"dataframe\">\n",
       "  <thead>\n",
       "    <tr style=\"text-align: right;\">\n",
       "      <th></th>\n",
       "      <th>count</th>\n",
       "      <th>unique</th>\n",
       "      <th>top</th>\n",
       "      <th>freq</th>\n",
       "      <th>mean</th>\n",
       "      <th>std</th>\n",
       "      <th>min</th>\n",
       "      <th>25%</th>\n",
       "      <th>50%</th>\n",
       "      <th>75%</th>\n",
       "      <th>max</th>\n",
       "    </tr>\n",
       "  </thead>\n",
       "  <tbody>\n",
       "    <tr>\n",
       "      <th>Booking_ID</th>\n",
       "      <td>36275</td>\n",
       "      <td>36275</td>\n",
       "      <td>INN00001</td>\n",
       "      <td>1</td>\n",
       "      <td>NaN</td>\n",
       "      <td>NaN</td>\n",
       "      <td>NaN</td>\n",
       "      <td>NaN</td>\n",
       "      <td>NaN</td>\n",
       "      <td>NaN</td>\n",
       "      <td>NaN</td>\n",
       "    </tr>\n",
       "    <tr>\n",
       "      <th>no_of_adults</th>\n",
       "      <td>36275.0</td>\n",
       "      <td>NaN</td>\n",
       "      <td>NaN</td>\n",
       "      <td>NaN</td>\n",
       "      <td>1.844962</td>\n",
       "      <td>0.518715</td>\n",
       "      <td>0.0</td>\n",
       "      <td>2.0</td>\n",
       "      <td>2.0</td>\n",
       "      <td>2.0</td>\n",
       "      <td>4.0</td>\n",
       "    </tr>\n",
       "    <tr>\n",
       "      <th>no_of_children</th>\n",
       "      <td>36275.0</td>\n",
       "      <td>NaN</td>\n",
       "      <td>NaN</td>\n",
       "      <td>NaN</td>\n",
       "      <td>0.105279</td>\n",
       "      <td>0.402648</td>\n",
       "      <td>0.0</td>\n",
       "      <td>0.0</td>\n",
       "      <td>0.0</td>\n",
       "      <td>0.0</td>\n",
       "      <td>10.0</td>\n",
       "    </tr>\n",
       "    <tr>\n",
       "      <th>no_of_weekend_nights</th>\n",
       "      <td>36275.0</td>\n",
       "      <td>NaN</td>\n",
       "      <td>NaN</td>\n",
       "      <td>NaN</td>\n",
       "      <td>0.810724</td>\n",
       "      <td>0.870644</td>\n",
       "      <td>0.0</td>\n",
       "      <td>0.0</td>\n",
       "      <td>1.0</td>\n",
       "      <td>2.0</td>\n",
       "      <td>7.0</td>\n",
       "    </tr>\n",
       "    <tr>\n",
       "      <th>no_of_week_nights</th>\n",
       "      <td>36275.0</td>\n",
       "      <td>NaN</td>\n",
       "      <td>NaN</td>\n",
       "      <td>NaN</td>\n",
       "      <td>2.2043</td>\n",
       "      <td>1.410905</td>\n",
       "      <td>0.0</td>\n",
       "      <td>1.0</td>\n",
       "      <td>2.0</td>\n",
       "      <td>3.0</td>\n",
       "      <td>17.0</td>\n",
       "    </tr>\n",
       "    <tr>\n",
       "      <th>type_of_meal_plan</th>\n",
       "      <td>36275</td>\n",
       "      <td>4</td>\n",
       "      <td>Meal Plan 1</td>\n",
       "      <td>27835</td>\n",
       "      <td>NaN</td>\n",
       "      <td>NaN</td>\n",
       "      <td>NaN</td>\n",
       "      <td>NaN</td>\n",
       "      <td>NaN</td>\n",
       "      <td>NaN</td>\n",
       "      <td>NaN</td>\n",
       "    </tr>\n",
       "    <tr>\n",
       "      <th>required_car_parking_space</th>\n",
       "      <td>36275</td>\n",
       "      <td>2</td>\n",
       "      <td>No</td>\n",
       "      <td>35151</td>\n",
       "      <td>NaN</td>\n",
       "      <td>NaN</td>\n",
       "      <td>NaN</td>\n",
       "      <td>NaN</td>\n",
       "      <td>NaN</td>\n",
       "      <td>NaN</td>\n",
       "      <td>NaN</td>\n",
       "    </tr>\n",
       "    <tr>\n",
       "      <th>room_type_reserved</th>\n",
       "      <td>36275</td>\n",
       "      <td>7</td>\n",
       "      <td>Room_Type 1</td>\n",
       "      <td>28130</td>\n",
       "      <td>NaN</td>\n",
       "      <td>NaN</td>\n",
       "      <td>NaN</td>\n",
       "      <td>NaN</td>\n",
       "      <td>NaN</td>\n",
       "      <td>NaN</td>\n",
       "      <td>NaN</td>\n",
       "    </tr>\n",
       "    <tr>\n",
       "      <th>lead_time</th>\n",
       "      <td>36275.0</td>\n",
       "      <td>NaN</td>\n",
       "      <td>NaN</td>\n",
       "      <td>NaN</td>\n",
       "      <td>85.232557</td>\n",
       "      <td>85.930817</td>\n",
       "      <td>0.0</td>\n",
       "      <td>17.0</td>\n",
       "      <td>57.0</td>\n",
       "      <td>126.0</td>\n",
       "      <td>443.0</td>\n",
       "    </tr>\n",
       "    <tr>\n",
       "      <th>arrival_year</th>\n",
       "      <td>36275.0</td>\n",
       "      <td>NaN</td>\n",
       "      <td>NaN</td>\n",
       "      <td>NaN</td>\n",
       "      <td>2017.820427</td>\n",
       "      <td>0.383836</td>\n",
       "      <td>2017.0</td>\n",
       "      <td>2018.0</td>\n",
       "      <td>2018.0</td>\n",
       "      <td>2018.0</td>\n",
       "      <td>2018.0</td>\n",
       "    </tr>\n",
       "    <tr>\n",
       "      <th>arrival_month</th>\n",
       "      <td>36275.0</td>\n",
       "      <td>NaN</td>\n",
       "      <td>NaN</td>\n",
       "      <td>NaN</td>\n",
       "      <td>7.423653</td>\n",
       "      <td>3.069894</td>\n",
       "      <td>1.0</td>\n",
       "      <td>5.0</td>\n",
       "      <td>8.0</td>\n",
       "      <td>10.0</td>\n",
       "      <td>12.0</td>\n",
       "    </tr>\n",
       "    <tr>\n",
       "      <th>arrival_date</th>\n",
       "      <td>36275.0</td>\n",
       "      <td>NaN</td>\n",
       "      <td>NaN</td>\n",
       "      <td>NaN</td>\n",
       "      <td>15.596995</td>\n",
       "      <td>8.740447</td>\n",
       "      <td>1.0</td>\n",
       "      <td>8.0</td>\n",
       "      <td>16.0</td>\n",
       "      <td>23.0</td>\n",
       "      <td>31.0</td>\n",
       "    </tr>\n",
       "    <tr>\n",
       "      <th>market_segment_type</th>\n",
       "      <td>36275</td>\n",
       "      <td>5</td>\n",
       "      <td>Online</td>\n",
       "      <td>23214</td>\n",
       "      <td>NaN</td>\n",
       "      <td>NaN</td>\n",
       "      <td>NaN</td>\n",
       "      <td>NaN</td>\n",
       "      <td>NaN</td>\n",
       "      <td>NaN</td>\n",
       "      <td>NaN</td>\n",
       "    </tr>\n",
       "    <tr>\n",
       "      <th>repeated_guest</th>\n",
       "      <td>36275</td>\n",
       "      <td>2</td>\n",
       "      <td>No</td>\n",
       "      <td>35345</td>\n",
       "      <td>NaN</td>\n",
       "      <td>NaN</td>\n",
       "      <td>NaN</td>\n",
       "      <td>NaN</td>\n",
       "      <td>NaN</td>\n",
       "      <td>NaN</td>\n",
       "      <td>NaN</td>\n",
       "    </tr>\n",
       "    <tr>\n",
       "      <th>no_of_previous_cancellations</th>\n",
       "      <td>36275.0</td>\n",
       "      <td>NaN</td>\n",
       "      <td>NaN</td>\n",
       "      <td>NaN</td>\n",
       "      <td>0.023349</td>\n",
       "      <td>0.368331</td>\n",
       "      <td>0.0</td>\n",
       "      <td>0.0</td>\n",
       "      <td>0.0</td>\n",
       "      <td>0.0</td>\n",
       "      <td>13.0</td>\n",
       "    </tr>\n",
       "    <tr>\n",
       "      <th>no_of_previous_bookings_not_canceled</th>\n",
       "      <td>36275.0</td>\n",
       "      <td>NaN</td>\n",
       "      <td>NaN</td>\n",
       "      <td>NaN</td>\n",
       "      <td>0.153411</td>\n",
       "      <td>1.754171</td>\n",
       "      <td>0.0</td>\n",
       "      <td>0.0</td>\n",
       "      <td>0.0</td>\n",
       "      <td>0.0</td>\n",
       "      <td>58.0</td>\n",
       "    </tr>\n",
       "    <tr>\n",
       "      <th>avg_price_per_room</th>\n",
       "      <td>36275.0</td>\n",
       "      <td>NaN</td>\n",
       "      <td>NaN</td>\n",
       "      <td>NaN</td>\n",
       "      <td>103.423539</td>\n",
       "      <td>35.089424</td>\n",
       "      <td>0.0</td>\n",
       "      <td>80.3</td>\n",
       "      <td>99.45</td>\n",
       "      <td>120.0</td>\n",
       "      <td>540.0</td>\n",
       "    </tr>\n",
       "    <tr>\n",
       "      <th>no_of_special_requests</th>\n",
       "      <td>36275.0</td>\n",
       "      <td>NaN</td>\n",
       "      <td>NaN</td>\n",
       "      <td>NaN</td>\n",
       "      <td>0.619655</td>\n",
       "      <td>0.786236</td>\n",
       "      <td>0.0</td>\n",
       "      <td>0.0</td>\n",
       "      <td>0.0</td>\n",
       "      <td>1.0</td>\n",
       "      <td>5.0</td>\n",
       "    </tr>\n",
       "    <tr>\n",
       "      <th>booking_status</th>\n",
       "      <td>36275.0</td>\n",
       "      <td>NaN</td>\n",
       "      <td>NaN</td>\n",
       "      <td>NaN</td>\n",
       "      <td>0.327636</td>\n",
       "      <td>0.469358</td>\n",
       "      <td>0.0</td>\n",
       "      <td>0.0</td>\n",
       "      <td>0.0</td>\n",
       "      <td>1.0</td>\n",
       "      <td>1.0</td>\n",
       "    </tr>\n",
       "  </tbody>\n",
       "</table>\n",
       "</div>"
      ],
      "text/plain": [
       "                                        count unique          top   freq  \\\n",
       "Booking_ID                              36275  36275     INN00001      1   \n",
       "no_of_adults                          36275.0    NaN          NaN    NaN   \n",
       "no_of_children                        36275.0    NaN          NaN    NaN   \n",
       "no_of_weekend_nights                  36275.0    NaN          NaN    NaN   \n",
       "no_of_week_nights                     36275.0    NaN          NaN    NaN   \n",
       "type_of_meal_plan                       36275      4  Meal Plan 1  27835   \n",
       "required_car_parking_space              36275      2           No  35151   \n",
       "room_type_reserved                      36275      7  Room_Type 1  28130   \n",
       "lead_time                             36275.0    NaN          NaN    NaN   \n",
       "arrival_year                          36275.0    NaN          NaN    NaN   \n",
       "arrival_month                         36275.0    NaN          NaN    NaN   \n",
       "arrival_date                          36275.0    NaN          NaN    NaN   \n",
       "market_segment_type                     36275      5       Online  23214   \n",
       "repeated_guest                          36275      2           No  35345   \n",
       "no_of_previous_cancellations          36275.0    NaN          NaN    NaN   \n",
       "no_of_previous_bookings_not_canceled  36275.0    NaN          NaN    NaN   \n",
       "avg_price_per_room                    36275.0    NaN          NaN    NaN   \n",
       "no_of_special_requests                36275.0    NaN          NaN    NaN   \n",
       "booking_status                        36275.0    NaN          NaN    NaN   \n",
       "\n",
       "                                             mean        std     min     25%  \\\n",
       "Booking_ID                                    NaN        NaN     NaN     NaN   \n",
       "no_of_adults                             1.844962   0.518715     0.0     2.0   \n",
       "no_of_children                           0.105279   0.402648     0.0     0.0   \n",
       "no_of_weekend_nights                     0.810724   0.870644     0.0     0.0   \n",
       "no_of_week_nights                          2.2043   1.410905     0.0     1.0   \n",
       "type_of_meal_plan                             NaN        NaN     NaN     NaN   \n",
       "required_car_parking_space                    NaN        NaN     NaN     NaN   \n",
       "room_type_reserved                            NaN        NaN     NaN     NaN   \n",
       "lead_time                               85.232557  85.930817     0.0    17.0   \n",
       "arrival_year                          2017.820427   0.383836  2017.0  2018.0   \n",
       "arrival_month                            7.423653   3.069894     1.0     5.0   \n",
       "arrival_date                            15.596995   8.740447     1.0     8.0   \n",
       "market_segment_type                           NaN        NaN     NaN     NaN   \n",
       "repeated_guest                                NaN        NaN     NaN     NaN   \n",
       "no_of_previous_cancellations             0.023349   0.368331     0.0     0.0   \n",
       "no_of_previous_bookings_not_canceled     0.153411   1.754171     0.0     0.0   \n",
       "avg_price_per_room                     103.423539  35.089424     0.0    80.3   \n",
       "no_of_special_requests                   0.619655   0.786236     0.0     0.0   \n",
       "booking_status                           0.327636   0.469358     0.0     0.0   \n",
       "\n",
       "                                         50%     75%     max  \n",
       "Booking_ID                               NaN     NaN     NaN  \n",
       "no_of_adults                             2.0     2.0     4.0  \n",
       "no_of_children                           0.0     0.0    10.0  \n",
       "no_of_weekend_nights                     1.0     2.0     7.0  \n",
       "no_of_week_nights                        2.0     3.0    17.0  \n",
       "type_of_meal_plan                        NaN     NaN     NaN  \n",
       "required_car_parking_space               NaN     NaN     NaN  \n",
       "room_type_reserved                       NaN     NaN     NaN  \n",
       "lead_time                               57.0   126.0   443.0  \n",
       "arrival_year                          2018.0  2018.0  2018.0  \n",
       "arrival_month                            8.0    10.0    12.0  \n",
       "arrival_date                            16.0    23.0    31.0  \n",
       "market_segment_type                      NaN     NaN     NaN  \n",
       "repeated_guest                           NaN     NaN     NaN  \n",
       "no_of_previous_cancellations             0.0     0.0    13.0  \n",
       "no_of_previous_bookings_not_canceled     0.0     0.0    58.0  \n",
       "avg_price_per_room                     99.45   120.0   540.0  \n",
       "no_of_special_requests                   0.0     1.0     5.0  \n",
       "booking_status                           0.0     1.0     1.0  "
      ]
     },
     "execution_count": 12,
     "metadata": {},
     "output_type": "execute_result"
    }
   ],
   "source": [
    "df.describe(include=\"all\").T"
   ]
  },
  {
   "cell_type": "markdown",
   "id": "bcdea799",
   "metadata": {},
   "source": [
    "The min year is **2017** and max year is **2018** in the data.\n",
    "\n",
    "The min month is 1 being that January, and max month is 12 being that December."
   ]
  },
  {
   "cell_type": "code",
   "execution_count": 13,
   "id": "3906189a",
   "metadata": {},
   "outputs": [],
   "source": [
    "## To plot quantitive variables\n",
    "def plot_num(feature):\n",
    "    fig,axes=plt.subplots(1,2)\n",
    "    sns.boxplot(data=df,x=feature,ax=axes[0])\n",
    "    sns.distplot(a=df[feature],ax=axes[1],color='#ff4125')\n",
    "    fig.set_size_inches(15,5)"
   ]
  },
  {
   "cell_type": "markdown",
   "id": "32ba99e4",
   "metadata": {},
   "source": [
    "## 1.3 EDA\n",
    "\n",
    "- It is a good idea to explore the data once again after manipulating it."
   ]
  },
  {
   "cell_type": "markdown",
   "id": "f09029b6",
   "metadata": {},
   "source": [
    "**1. What are the busiest months in the hotel?**\n",
    "\n",
    "We need to convert them into categorical variables"
   ]
  },
  {
   "cell_type": "code",
   "execution_count": 14,
   "id": "a462d6e4",
   "metadata": {},
   "outputs": [],
   "source": [
    "df['arrival_year'] = df['arrival_year'].astype(\"object\")\n",
    "df['arrival_month'] = df['arrival_month'].astype(\"object\")"
   ]
  },
  {
   "cell_type": "code",
   "execution_count": 15,
   "id": "8082bea8",
   "metadata": {},
   "outputs": [],
   "source": [
    "years=['2017','2018']\n",
    "months=['January','February','March','April','May','June','July','August','September','October','November','December']\n",
    "\n",
    "y_num=2017\n",
    "for y_text in years:\n",
    "    index_aux=df[df['arrival_year']==y_num].index.tolist()\n",
    "    df.loc[index_aux,'arrival_year']=y_text\n",
    "    y_num=y_num+1\n",
    "    \n",
    "m_num=1\n",
    "for m_text in months:\n",
    "    index_aux=df[df['arrival_month']==m_num].index.tolist()\n",
    "    df.loc[index_aux,'arrival_month']=m_text\n",
    "    m_num=m_num+1    "
   ]
  },
  {
   "cell_type": "code",
   "execution_count": 16,
   "id": "c6e22aca",
   "metadata": {},
   "outputs": [
    {
     "data": {
      "text/html": [
       "<div>\n",
       "<style scoped>\n",
       "    .dataframe tbody tr th:only-of-type {\n",
       "        vertical-align: middle;\n",
       "    }\n",
       "\n",
       "    .dataframe tbody tr th {\n",
       "        vertical-align: top;\n",
       "    }\n",
       "\n",
       "    .dataframe thead th {\n",
       "        text-align: right;\n",
       "    }\n",
       "</style>\n",
       "<table border=\"1\" class=\"dataframe\">\n",
       "  <thead>\n",
       "    <tr style=\"text-align: right;\">\n",
       "      <th></th>\n",
       "      <th>arrival_year</th>\n",
       "      <th>arrival_month</th>\n",
       "    </tr>\n",
       "  </thead>\n",
       "  <tbody>\n",
       "    <tr>\n",
       "      <th>count</th>\n",
       "      <td>36275</td>\n",
       "      <td>36275</td>\n",
       "    </tr>\n",
       "    <tr>\n",
       "      <th>unique</th>\n",
       "      <td>2</td>\n",
       "      <td>12</td>\n",
       "    </tr>\n",
       "    <tr>\n",
       "      <th>top</th>\n",
       "      <td>2018</td>\n",
       "      <td>October</td>\n",
       "    </tr>\n",
       "    <tr>\n",
       "      <th>freq</th>\n",
       "      <td>29761</td>\n",
       "      <td>5317</td>\n",
       "    </tr>\n",
       "  </tbody>\n",
       "</table>\n",
       "</div>"
      ],
      "text/plain": [
       "       arrival_year arrival_month\n",
       "count         36275         36275\n",
       "unique            2            12\n",
       "top            2018       October\n",
       "freq          29761          5317"
      ]
     },
     "execution_count": 16,
     "metadata": {},
     "output_type": "execute_result"
    }
   ],
   "source": [
    "df[['arrival_year','arrival_month']].describe()"
   ]
  },
  {
   "cell_type": "code",
   "execution_count": 17,
   "id": "fab429d0",
   "metadata": {},
   "outputs": [
    {
     "name": "stdout",
     "output_type": "stream",
     "text": [
      "<class 'pandas.core.frame.DataFrame'>\n",
      "RangeIndex: 36275 entries, 0 to 36274\n",
      "Data columns (total 19 columns):\n",
      " #   Column                                Non-Null Count  Dtype  \n",
      "---  ------                                --------------  -----  \n",
      " 0   Booking_ID                            36275 non-null  object \n",
      " 1   no_of_adults                          36275 non-null  int64  \n",
      " 2   no_of_children                        36275 non-null  int64  \n",
      " 3   no_of_weekend_nights                  36275 non-null  int64  \n",
      " 4   no_of_week_nights                     36275 non-null  int64  \n",
      " 5   type_of_meal_plan                     36275 non-null  object \n",
      " 6   required_car_parking_space            36275 non-null  object \n",
      " 7   room_type_reserved                    36275 non-null  object \n",
      " 8   lead_time                             36275 non-null  int64  \n",
      " 9   arrival_year                          36275 non-null  object \n",
      " 10  arrival_month                         36275 non-null  object \n",
      " 11  arrival_date                          36275 non-null  int64  \n",
      " 12  market_segment_type                   36275 non-null  object \n",
      " 13  repeated_guest                        36275 non-null  object \n",
      " 14  no_of_previous_cancellations          36275 non-null  int64  \n",
      " 15  no_of_previous_bookings_not_canceled  36275 non-null  int64  \n",
      " 16  avg_price_per_room                    36275 non-null  float64\n",
      " 17  no_of_special_requests                36275 non-null  int64  \n",
      " 18  booking_status                        36275 non-null  int64  \n",
      "dtypes: float64(1), int64(10), object(8)\n",
      "memory usage: 5.3+ MB\n"
     ]
    }
   ],
   "source": [
    "df.info()"
   ]
  },
  {
   "cell_type": "markdown",
   "id": "ab570319",
   "metadata": {},
   "source": [
    "**Number of adults**"
   ]
  },
  {
   "cell_type": "code",
   "execution_count": 56,
   "id": "257e9f12",
   "metadata": {},
   "outputs": [
    {
     "data": {
      "image/png": "[encoded data removed]",
      "text/plain": [
       "<Figure size 1080x360 with 2 Axes>"
      ]
     },
     "metadata": {
      "needs_background": "light"
     },
     "output_type": "display_data"
    }
   ],
   "source": [
    "plot_num('no_of_adults')"
   ]
  },
  {
   "cell_type": "code",
   "execution_count": 57,
   "id": "b81376d5",
   "metadata": {},
   "outputs": [
    {
     "data": {
      "text/plain": [
       "2    26108\n",
       "1     7695\n",
       "3     2317\n",
       "0      139\n",
       "4       16\n",
       "Name: no_of_adults, dtype: int64"
      ]
     },
     "execution_count": 57,
     "metadata": {},
     "output_type": "execute_result"
    }
   ],
   "source": [
    "df['no_of_adults'].value_counts()"
   ]
  },
  {
   "cell_type": "markdown",
   "id": "a34a8b54",
   "metadata": {},
   "source": [
    "**Number of children**"
   ]
  },
  {
   "cell_type": "code",
   "execution_count": 58,
   "id": "452f1efd",
   "metadata": {},
   "outputs": [
    {
     "data": {
      "image/png": "[encoded data removed]",
      "text/plain": [
       "<Figure size 1080x360 with 2 Axes>"
      ]
     },
     "metadata": {
      "needs_background": "light"
     },
     "output_type": "display_data"
    }
   ],
   "source": [
    "plot_num('no_of_adults')"
   ]
  },
  {
   "cell_type": "code",
   "execution_count": 59,
   "id": "336252e4",
   "metadata": {},
   "outputs": [
    {
     "data": {
      "text/plain": [
       "0     33577\n",
       "1      1618\n",
       "2      1058\n",
       "3        19\n",
       "9         2\n",
       "10        1\n",
       "Name: no_of_children, dtype: int64"
      ]
     },
     "execution_count": 59,
     "metadata": {},
     "output_type": "execute_result"
    }
   ],
   "source": [
    "df['no_of_children'].value_counts()"
   ]
  },
  {
   "cell_type": "markdown",
   "id": "e675c355",
   "metadata": {},
   "source": [
    "**Number of weekend nights**"
   ]
  },
  {
   "cell_type": "code",
   "execution_count": 60,
   "id": "7e7072d1",
   "metadata": {},
   "outputs": [
    {
     "data": {
      "image/png": "[encoded data removed]",
      "text/plain": [
       "<Figure size 1080x360 with 2 Axes>"
      ]
     },
     "metadata": {
      "needs_background": "light"
     },
     "output_type": "display_data"
    }
   ],
   "source": [
    "plot_num('no_of_weekend_nights')"
   ]
  },
  {
   "cell_type": "markdown",
   "id": "0553ae2e",
   "metadata": {},
   "source": [
    "**Number of week nights**"
   ]
  },
  {
   "cell_type": "code",
   "execution_count": 61,
   "id": "5104bd45",
   "metadata": {},
   "outputs": [
    {
     "data": {
      "image/png": "[encoded data removed]",
      "text/plain": [
       "<Figure size 1080x360 with 2 Axes>"
      ]
     },
     "metadata": {
      "needs_background": "light"
     },
     "output_type": "display_data"
    }
   ],
   "source": [
    "plot_num('no_of_week_nights')"
   ]
  },
  {
   "cell_type": "markdown",
   "id": "129c1570",
   "metadata": {},
   "source": [
    "* This is a right skewed distribution, so we can get its logarithm for a better distribution"
   ]
  },
  {
   "cell_type": "code",
   "execution_count": 18,
   "id": "e9ac3d59",
   "metadata": {},
   "outputs": [],
   "source": [
    "df[\"no_of_week_nights_log\"] = np.log(df[\"no_of_week_nights\"]+1)"
   ]
  },
  {
   "cell_type": "code",
   "execution_count": 63,
   "id": "bb189453",
   "metadata": {},
   "outputs": [
    {
     "data": {
      "image/png": "[encoded data removed]",
      "text/plain": [
       "<Figure size 1080x360 with 2 Axes>"
      ]
     },
     "metadata": {
      "needs_background": "light"
     },
     "output_type": "display_data"
    }
   ],
   "source": [
    "plot_num('no_of_week_nights_log')"
   ]
  },
  {
   "cell_type": "markdown",
   "id": "23deecd2",
   "metadata": {},
   "source": [
    "**Arrival date (day)**"
   ]
  },
  {
   "cell_type": "code",
   "execution_count": 64,
   "id": "8f7ab1f2",
   "metadata": {},
   "outputs": [
    {
     "data": {
      "image/png": "[encoded data removed]",
      "text/plain": [
       "<Figure size 1080x360 with 2 Axes>"
      ]
     },
     "metadata": {
      "needs_background": "light"
     },
     "output_type": "display_data"
    }
   ],
   "source": [
    "plot_num('arrival_date')"
   ]
  },
  {
   "cell_type": "markdown",
   "id": "8032f11b",
   "metadata": {},
   "source": [
    "**Lead time**"
   ]
  },
  {
   "cell_type": "code",
   "execution_count": 65,
   "id": "d6c167f5",
   "metadata": {},
   "outputs": [
    {
     "data": {
      "image/png": "[encoded data removed]",
      "text/plain": [
       "<Figure size 1080x360 with 2 Axes>"
      ]
     },
     "metadata": {
      "needs_background": "light"
     },
     "output_type": "display_data"
    }
   ],
   "source": [
    "plot_num('lead_time')"
   ]
  },
  {
   "cell_type": "markdown",
   "id": "0c535d7b",
   "metadata": {},
   "source": [
    "* This is a very right skewed distribution, so we can get the logarithm for a better distribution"
   ]
  },
  {
   "cell_type": "code",
   "execution_count": 19,
   "id": "86676b1b",
   "metadata": {},
   "outputs": [],
   "source": [
    "df[\"lead_time_log\"] = np.log(df[\"lead_time\"]+1)"
   ]
  },
  {
   "cell_type": "code",
   "execution_count": 67,
   "id": "4c013700",
   "metadata": {},
   "outputs": [
    {
     "data": {
      "image/png": "[encoded data removed]",
      "text/plain": [
       "<Figure size 1080x360 with 2 Axes>"
      ]
     },
     "metadata": {
      "needs_background": "light"
     },
     "output_type": "display_data"
    }
   ],
   "source": [
    "plot_num('lead_time_log')"
   ]
  },
  {
   "cell_type": "markdown",
   "id": "e867b5fe",
   "metadata": {},
   "source": [
    "**Number of previous cancellation**"
   ]
  },
  {
   "cell_type": "code",
   "execution_count": 68,
   "id": "2edec50d",
   "metadata": {},
   "outputs": [
    {
     "data": {
      "image/png": "[encoded data removed]",
      "text/plain": [
       "<Figure size 1080x360 with 2 Axes>"
      ]
     },
     "metadata": {
      "needs_background": "light"
     },
     "output_type": "display_data"
    }
   ],
   "source": [
    "plot_num('no_of_previous_cancellations')"
   ]
  },
  {
   "cell_type": "markdown",
   "id": "7665cf1c",
   "metadata": {},
   "source": [
    "* Let's see a wider insight about what happen with another number of cancellations since 1. "
   ]
  },
  {
   "cell_type": "code",
   "execution_count": 122,
   "id": "42c98c2e",
   "metadata": {},
   "outputs": [
    {
     "data": {
      "image/png": "[encoded data removed]",
      "text/plain": [
       "<Figure size 432x288 with 1 Axes>"
      ]
     },
     "metadata": {
      "needs_background": "light"
     },
     "output_type": "display_data"
    }
   ],
   "source": [
    "sns.countplot(data=df,x='no_of_previous_cancellations',order=df['no_of_previous_cancellations'].value_counts()[1:9].index);"
   ]
  },
  {
   "cell_type": "markdown",
   "id": "38bceba5",
   "metadata": {},
   "source": [
    "**Number of previous bookings not cancelled**"
   ]
  },
  {
   "cell_type": "code",
   "execution_count": 123,
   "id": "0f2d14fb",
   "metadata": {},
   "outputs": [
    {
     "data": {
      "image/png": "[encoded data removed]",
      "text/plain": [
       "<Figure size 1080x360 with 2 Axes>"
      ]
     },
     "metadata": {
      "needs_background": "light"
     },
     "output_type": "display_data"
    }
   ],
   "source": [
    "plot_num('no_of_previous_bookings_not_canceled')"
   ]
  },
  {
   "cell_type": "code",
   "execution_count": 124,
   "id": "eab0725d",
   "metadata": {},
   "outputs": [
    {
     "data": {
      "text/plain": [
       "0     35463\n",
       "1       228\n",
       "2       112\n",
       "3        80\n",
       "4        65\n",
       "5        60\n",
       "6        36\n",
       "7        24\n",
       "8        23\n",
       "10       19\n",
       "9        19\n",
       "11       15\n",
       "12       12\n",
       "14        9\n",
       "15        8\n",
       "16        7\n",
       "13        7\n",
       "18        6\n",
       "20        6\n",
       "21        6\n",
       "Name: no_of_previous_bookings_not_canceled, dtype: int64"
      ]
     },
     "execution_count": 124,
     "metadata": {},
     "output_type": "execute_result"
    }
   ],
   "source": [
    "df['no_of_previous_bookings_not_canceled'].value_counts()[0:20]"
   ]
  },
  {
   "cell_type": "markdown",
   "id": "577cdecd",
   "metadata": {},
   "source": [
    "**Average price per room**"
   ]
  },
  {
   "cell_type": "code",
   "execution_count": 72,
   "id": "c4c91c05",
   "metadata": {},
   "outputs": [
    {
     "data": {
      "image/png": "[encoded data removed]",
      "text/plain": [
       "<Figure size 1080x360 with 2 Axes>"
      ]
     },
     "metadata": {
      "needs_background": "light"
     },
     "output_type": "display_data"
    }
   ],
   "source": [
    "plot_num('avg_price_per_room')"
   ]
  },
  {
   "cell_type": "markdown",
   "id": "77c639a6",
   "metadata": {},
   "source": [
    "**Number of special requests**"
   ]
  },
  {
   "cell_type": "code",
   "execution_count": 73,
   "id": "f88e7d7f",
   "metadata": {},
   "outputs": [
    {
     "data": {
      "image/png": "[encoded data removed]",
      "text/plain": [
       "<Figure size 1080x360 with 2 Axes>"
      ]
     },
     "metadata": {
      "needs_background": "light"
     },
     "output_type": "display_data"
    }
   ],
   "source": [
    "plot_num('no_of_special_requests')"
   ]
  },
  {
   "cell_type": "code",
   "execution_count": 125,
   "id": "13ee831d",
   "metadata": {},
   "outputs": [
    {
     "data": {
      "text/plain": [
       "Booking_ID                              0\n",
       "no_of_adults                            0\n",
       "no_of_children                          0\n",
       "no_of_weekend_nights                    0\n",
       "no_of_week_nights                       0\n",
       "type_of_meal_plan                       0\n",
       "required_car_parking_space              0\n",
       "room_type_reserved                      0\n",
       "lead_time                               0\n",
       "arrival_year                            0\n",
       "arrival_month                           0\n",
       "arrival_date                            0\n",
       "market_segment_type                     0\n",
       "repeated_guest                          0\n",
       "no_of_previous_cancellations            0\n",
       "no_of_previous_bookings_not_canceled    0\n",
       "avg_price_per_room                      0\n",
       "no_of_special_requests                  0\n",
       "booking_status                          0\n",
       "no_of_week_nights_log                   0\n",
       "dtype: int64"
      ]
     },
     "execution_count": 125,
     "metadata": {},
     "output_type": "execute_result"
    }
   ],
   "source": [
    "df.isnull().sum()"
   ]
  },
  {
   "cell_type": "markdown",
   "id": "867544ab",
   "metadata": {},
   "source": [
    "### Outlier Check"
   ]
  },
  {
   "cell_type": "code",
   "execution_count": 126,
   "id": "1292d229",
   "metadata": {},
   "outputs": [
    {
     "data": {
      "image/png": "[encoded data removed]",
      "text/plain": [
       "<Figure size 1080x1080 with 14 Axes>"
      ]
     },
     "metadata": {
      "needs_background": "light"
     },
     "output_type": "display_data"
    }
   ],
   "source": [
    "# outlier detection using boxplot\n",
    "numeric_columns = df.select_dtypes(include=np.number).columns.tolist()\n",
    "\n",
    "plt.figure(figsize=(15, 15))\n",
    "\n",
    "for i, variable in enumerate(numeric_columns):\n",
    "    plt.subplot(3, 5, i + 1)\n",
    "    plt.boxplot(df[variable], whis=1.5)\n",
    "    plt.tight_layout()\n",
    "    plt.title(variable)\n",
    "\n",
    "plt.show()"
   ]
  },
  {
   "cell_type": "code",
   "execution_count": 20,
   "id": "8811dfd3",
   "metadata": {},
   "outputs": [],
   "source": [
    "# functions to treat outliers by flooring and capping\n",
    "def treat_outliers(df, col):\n",
    "    Q1 = df[col].quantile(0.25)  # 25th quantile\n",
    "    Q3 = df[col].quantile(0.75)  # 75th quantile\n",
    "    IQR = Q3 - Q1\n",
    "    Low_Whisker = Q1 - 1.5 * IQR\n",
    "    Upp_Whisker = Q3 + 1.5 * IQR\n",
    "\n",
    "    # all the values smaller than Lower_Whisker will be assigned the value of Lower_Whisker\n",
    "    # all the values greater than Upper_Whisker will be assigned the value of Upper_Whisker\n",
    "    df[col] = np.clip(df[col], Low_Whisker, Upp_Whisker)\n",
    "\n",
    "\n",
    "def treat_outliers_all(df, col_list):\n",
    "    for c in col_list:\n",
    "        df = treat_outliers(df, c)\n",
    "\n",
    "    return df"
   ]
  },
  {
   "cell_type": "markdown",
   "id": "ed582e8e",
   "metadata": {},
   "source": [
    "### Here we remove and replace the outliers by whiskers, mainly in these columns"
   ]
  },
  {
   "cell_type": "code",
   "execution_count": 21,
   "id": "e649c208",
   "metadata": {},
   "outputs": [],
   "source": [
    "treat_outliers(df,'lead_time')"
   ]
  },
  {
   "cell_type": "code",
   "execution_count": 22,
   "id": "371fcb6d",
   "metadata": {},
   "outputs": [],
   "source": [
    "treat_outliers(df,'avg_price_per_room')"
   ]
  },
  {
   "cell_type": "code",
   "execution_count": 79,
   "id": "2ca1de67",
   "metadata": {},
   "outputs": [
    {
     "data": {
      "image/png": "[encoded data removed]",
      "text/plain": [
       "<Figure size 1080x1080 with 15 Axes>"
      ]
     },
     "metadata": {
      "needs_background": "light"
     },
     "output_type": "display_data"
    }
   ],
   "source": [
    "# outlier detection using boxplot and clean outliers on lead_time and avg_price_per_room\n",
    "numeric_columns = df.select_dtypes(include=np.number).columns.tolist()\n",
    "\n",
    "plt.figure(figsize=(15, 15))\n",
    "\n",
    "for i, variable in enumerate(numeric_columns):\n",
    "    plt.subplot(3, 5, i + 1)\n",
    "    plt.boxplot(df[variable], whis=1.5)\n",
    "    plt.tight_layout()\n",
    "    plt.title(variable)\n",
    "\n",
    "plt.show()"
   ]
  },
  {
   "cell_type": "code",
   "execution_count": 152,
   "id": "079a8960",
   "metadata": {
    "scrolled": false
   },
   "outputs": [
    {
     "name": "stdout",
     "output_type": "stream",
     "text": [
      "<class 'pandas.core.frame.DataFrame'>\n",
      "RangeIndex: 36275 entries, 0 to 36274\n",
      "Data columns (total 21 columns):\n",
      " #   Column                                Non-Null Count  Dtype  \n",
      "---  ------                                --------------  -----  \n",
      " 0   Booking_ID                            36275 non-null  object \n",
      " 1   no_of_adults                          36275 non-null  int64  \n",
      " 2   no_of_children                        36275 non-null  int64  \n",
      " 3   no_of_weekend_nights                  36275 non-null  int64  \n",
      " 4   no_of_week_nights                     36275 non-null  int64  \n",
      " 5   type_of_meal_plan                     36275 non-null  object \n",
      " 6   required_car_parking_space            36275 non-null  object \n",
      " 7   room_type_reserved                    36275 non-null  object \n",
      " 8   lead_time                             36275 non-null  float64\n",
      " 9   arrival_year                          36275 non-null  object \n",
      " 10  arrival_month                         36275 non-null  object \n",
      " 11  arrival_date                          36275 non-null  int64  \n",
      " 12  market_segment_type                   36275 non-null  object \n",
      " 13  repeated_guest                        36275 non-null  object \n",
      " 14  no_of_previous_cancellations          36275 non-null  int64  \n",
      " 15  no_of_previous_bookings_not_canceled  36275 non-null  int64  \n",
      " 16  avg_price_per_room                    36275 non-null  float64\n",
      " 17  no_of_special_requests                36275 non-null  int64  \n",
      " 18  booking_status                        36275 non-null  int64  \n",
      " 19  no_of_week_nights_log                 36275 non-null  float64\n",
      " 20  lead_time_log                         36275 non-null  float64\n",
      "dtypes: float64(4), int64(9), object(8)\n",
      "memory usage: 5.8+ MB\n"
     ]
    }
   ],
   "source": [
    "df.info()"
   ]
  },
  {
   "cell_type": "code",
   "execution_count": 23,
   "id": "b1faf2f9",
   "metadata": {},
   "outputs": [],
   "source": [
    "# Transformation to category\n",
    "df['Booking_ID'] = df['Booking_ID'].astype('category')\n",
    "df['type_of_meal_plan'] = df['type_of_meal_plan'].astype('category')\n",
    "df['required_car_parking_space'] = df['required_car_parking_space'].astype('category')\n",
    "df['room_type_reserved'] = df['room_type_reserved'].astype('category')\n",
    "df['arrival_year'] = df['arrival_year'].astype('category')\n",
    "df['arrival_month'] = df['arrival_month'].astype('category')\n",
    "df['market_segment_type'] = df['market_segment_type'].astype('category')\n",
    "df['repeated_guest'] = df['repeated_guest'].astype('category')\n",
    "df['booking_status'] = df['booking_status'].astype('int64')"
   ]
  },
  {
   "cell_type": "code",
   "execution_count": 24,
   "id": "e8bf025b",
   "metadata": {},
   "outputs": [
    {
     "name": "stdout",
     "output_type": "stream",
     "text": [
      "<class 'pandas.core.frame.DataFrame'>\n",
      "RangeIndex: 36275 entries, 0 to 36274\n",
      "Data columns (total 21 columns):\n",
      " #   Column                                Non-Null Count  Dtype   \n",
      "---  ------                                --------------  -----   \n",
      " 0   Booking_ID                            36275 non-null  category\n",
      " 1   no_of_adults                          36275 non-null  int64   \n",
      " 2   no_of_children                        36275 non-null  int64   \n",
      " 3   no_of_weekend_nights                  36275 non-null  int64   \n",
      " 4   no_of_week_nights                     36275 non-null  int64   \n",
      " 5   type_of_meal_plan                     36275 non-null  category\n",
      " 6   required_car_parking_space            36275 non-null  category\n",
      " 7   room_type_reserved                    36275 non-null  category\n",
      " 8   lead_time                             36275 non-null  float64 \n",
      " 9   arrival_year                          36275 non-null  category\n",
      " 10  arrival_month                         36275 non-null  category\n",
      " 11  arrival_date                          36275 non-null  int64   \n",
      " 12  market_segment_type                   36275 non-null  category\n",
      " 13  repeated_guest                        36275 non-null  category\n",
      " 14  no_of_previous_cancellations          36275 non-null  int64   \n",
      " 15  no_of_previous_bookings_not_canceled  36275 non-null  int64   \n",
      " 16  avg_price_per_room                    36275 non-null  float64 \n",
      " 17  no_of_special_requests                36275 non-null  int64   \n",
      " 18  booking_status                        36275 non-null  int64   \n",
      " 19  no_of_week_nights_log                 36275 non-null  float64 \n",
      " 20  lead_time_log                         36275 non-null  float64 \n",
      "dtypes: category(8), float64(4), int64(9)\n",
      "memory usage: 5.3 MB\n"
     ]
    }
   ],
   "source": [
    "df.info()"
   ]
  },
  {
   "cell_type": "code",
   "execution_count": 25,
   "id": "13e312d4",
   "metadata": {},
   "outputs": [
    {
     "data": {
      "text/html": [
       "<div>\n",
       "<style scoped>\n",
       "    .dataframe tbody tr th:only-of-type {\n",
       "        vertical-align: middle;\n",
       "    }\n",
       "\n",
       "    .dataframe tbody tr th {\n",
       "        vertical-align: top;\n",
       "    }\n",
       "\n",
       "    .dataframe thead th {\n",
       "        text-align: right;\n",
       "    }\n",
       "</style>\n",
       "<table border=\"1\" class=\"dataframe\">\n",
       "  <thead>\n",
       "    <tr style=\"text-align: right;\">\n",
       "      <th></th>\n",
       "      <th>Booking_ID</th>\n",
       "      <th>no_of_adults</th>\n",
       "      <th>no_of_children</th>\n",
       "      <th>no_of_weekend_nights</th>\n",
       "      <th>no_of_week_nights</th>\n",
       "      <th>type_of_meal_plan</th>\n",
       "      <th>required_car_parking_space</th>\n",
       "      <th>room_type_reserved</th>\n",
       "      <th>lead_time</th>\n",
       "      <th>arrival_year</th>\n",
       "      <th>...</th>\n",
       "      <th>arrival_date</th>\n",
       "      <th>market_segment_type</th>\n",
       "      <th>repeated_guest</th>\n",
       "      <th>no_of_previous_cancellations</th>\n",
       "      <th>no_of_previous_bookings_not_canceled</th>\n",
       "      <th>avg_price_per_room</th>\n",
       "      <th>no_of_special_requests</th>\n",
       "      <th>booking_status</th>\n",
       "      <th>no_of_week_nights_log</th>\n",
       "      <th>lead_time_log</th>\n",
       "    </tr>\n",
       "  </thead>\n",
       "  <tbody>\n",
       "    <tr>\n",
       "      <th>0</th>\n",
       "      <td>INN00001</td>\n",
       "      <td>2</td>\n",
       "      <td>0</td>\n",
       "      <td>1</td>\n",
       "      <td>2</td>\n",
       "      <td>Meal Plan 1</td>\n",
       "      <td>No</td>\n",
       "      <td>Room_Type 1</td>\n",
       "      <td>224.0</td>\n",
       "      <td>2017</td>\n",
       "      <td>...</td>\n",
       "      <td>2</td>\n",
       "      <td>Offline</td>\n",
       "      <td>No</td>\n",
       "      <td>0</td>\n",
       "      <td>0</td>\n",
       "      <td>65.00</td>\n",
       "      <td>0</td>\n",
       "      <td>0</td>\n",
       "      <td>1.098612</td>\n",
       "      <td>5.416100</td>\n",
       "    </tr>\n",
       "    <tr>\n",
       "      <th>1</th>\n",
       "      <td>INN00002</td>\n",
       "      <td>2</td>\n",
       "      <td>0</td>\n",
       "      <td>2</td>\n",
       "      <td>3</td>\n",
       "      <td>Not Selected</td>\n",
       "      <td>No</td>\n",
       "      <td>Room_Type 1</td>\n",
       "      <td>5.0</td>\n",
       "      <td>2018</td>\n",
       "      <td>...</td>\n",
       "      <td>6</td>\n",
       "      <td>Online</td>\n",
       "      <td>No</td>\n",
       "      <td>0</td>\n",
       "      <td>0</td>\n",
       "      <td>106.68</td>\n",
       "      <td>1</td>\n",
       "      <td>0</td>\n",
       "      <td>1.386294</td>\n",
       "      <td>1.791759</td>\n",
       "    </tr>\n",
       "    <tr>\n",
       "      <th>2</th>\n",
       "      <td>INN00003</td>\n",
       "      <td>1</td>\n",
       "      <td>0</td>\n",
       "      <td>2</td>\n",
       "      <td>1</td>\n",
       "      <td>Meal Plan 1</td>\n",
       "      <td>No</td>\n",
       "      <td>Room_Type 1</td>\n",
       "      <td>1.0</td>\n",
       "      <td>2018</td>\n",
       "      <td>...</td>\n",
       "      <td>28</td>\n",
       "      <td>Online</td>\n",
       "      <td>No</td>\n",
       "      <td>0</td>\n",
       "      <td>0</td>\n",
       "      <td>60.00</td>\n",
       "      <td>0</td>\n",
       "      <td>1</td>\n",
       "      <td>0.693147</td>\n",
       "      <td>0.693147</td>\n",
       "    </tr>\n",
       "    <tr>\n",
       "      <th>3</th>\n",
       "      <td>INN00004</td>\n",
       "      <td>2</td>\n",
       "      <td>0</td>\n",
       "      <td>0</td>\n",
       "      <td>2</td>\n",
       "      <td>Meal Plan 1</td>\n",
       "      <td>No</td>\n",
       "      <td>Room_Type 1</td>\n",
       "      <td>211.0</td>\n",
       "      <td>2018</td>\n",
       "      <td>...</td>\n",
       "      <td>20</td>\n",
       "      <td>Online</td>\n",
       "      <td>No</td>\n",
       "      <td>0</td>\n",
       "      <td>0</td>\n",
       "      <td>100.00</td>\n",
       "      <td>0</td>\n",
       "      <td>1</td>\n",
       "      <td>1.098612</td>\n",
       "      <td>5.356586</td>\n",
       "    </tr>\n",
       "    <tr>\n",
       "      <th>4</th>\n",
       "      <td>INN00005</td>\n",
       "      <td>2</td>\n",
       "      <td>0</td>\n",
       "      <td>1</td>\n",
       "      <td>1</td>\n",
       "      <td>Not Selected</td>\n",
       "      <td>No</td>\n",
       "      <td>Room_Type 1</td>\n",
       "      <td>48.0</td>\n",
       "      <td>2018</td>\n",
       "      <td>...</td>\n",
       "      <td>11</td>\n",
       "      <td>Online</td>\n",
       "      <td>No</td>\n",
       "      <td>0</td>\n",
       "      <td>0</td>\n",
       "      <td>94.50</td>\n",
       "      <td>0</td>\n",
       "      <td>1</td>\n",
       "      <td>0.693147</td>\n",
       "      <td>3.891820</td>\n",
       "    </tr>\n",
       "  </tbody>\n",
       "</table>\n",
       "<p>5 rows × 21 columns</p>\n",
       "</div>"
      ],
      "text/plain": [
       "  Booking_ID  no_of_adults  no_of_children  no_of_weekend_nights  \\\n",
       "0   INN00001             2               0                     1   \n",
       "1   INN00002             2               0                     2   \n",
       "2   INN00003             1               0                     2   \n",
       "3   INN00004             2               0                     0   \n",
       "4   INN00005             2               0                     1   \n",
       "\n",
       "   no_of_week_nights type_of_meal_plan required_car_parking_space  \\\n",
       "0                  2       Meal Plan 1                         No   \n",
       "1                  3      Not Selected                         No   \n",
       "2                  1       Meal Plan 1                         No   \n",
       "3                  2       Meal Plan 1                         No   \n",
       "4                  1      Not Selected                         No   \n",
       "\n",
       "  room_type_reserved  lead_time arrival_year  ... arrival_date  \\\n",
       "0        Room_Type 1      224.0         2017  ...            2   \n",
       "1        Room_Type 1        5.0         2018  ...            6   \n",
       "2        Room_Type 1        1.0         2018  ...           28   \n",
       "3        Room_Type 1      211.0         2018  ...           20   \n",
       "4        Room_Type 1       48.0         2018  ...           11   \n",
       "\n",
       "   market_segment_type repeated_guest no_of_previous_cancellations  \\\n",
       "0              Offline             No                            0   \n",
       "1               Online             No                            0   \n",
       "2               Online             No                            0   \n",
       "3               Online             No                            0   \n",
       "4               Online             No                            0   \n",
       "\n",
       "   no_of_previous_bookings_not_canceled  avg_price_per_room  \\\n",
       "0                                     0               65.00   \n",
       "1                                     0              106.68   \n",
       "2                                     0               60.00   \n",
       "3                                     0              100.00   \n",
       "4                                     0               94.50   \n",
       "\n",
       "   no_of_special_requests  booking_status  no_of_week_nights_log  \\\n",
       "0                       0               0               1.098612   \n",
       "1                       1               0               1.386294   \n",
       "2                       0               1               0.693147   \n",
       "3                       0               1               1.098612   \n",
       "4                       0               1               0.693147   \n",
       "\n",
       "   lead_time_log  \n",
       "0       5.416100  \n",
       "1       1.791759  \n",
       "2       0.693147  \n",
       "3       5.356586  \n",
       "4       3.891820  \n",
       "\n",
       "[5 rows x 21 columns]"
      ]
     },
     "execution_count": 25,
     "metadata": {},
     "output_type": "execute_result"
    }
   ],
   "source": [
    "df.head()"
   ]
  },
  {
   "cell_type": "markdown",
   "id": "third-projection",
   "metadata": {
    "id": "third-projection"
   },
   "source": [
    "# Section 2\n",
    "## 2.1 Building a Logistic Regression model\n",
    "\n",
    "- In order to make statistical inferences from a logistic regression model, it is important to ensure that there is no multicollinearity present in the data."
   ]
  },
  {
   "cell_type": "code",
   "execution_count": 26,
   "id": "antique-payroll",
   "metadata": {
    "id": "antique-payroll"
   },
   "outputs": [],
   "source": [
    "df1=df.copy()"
   ]
  },
  {
   "cell_type": "code",
   "execution_count": 27,
   "id": "4981dece",
   "metadata": {},
   "outputs": [],
   "source": [
    "df1.drop(['Booking_ID'],axis=1,inplace=True)"
   ]
  },
  {
   "cell_type": "code",
   "execution_count": 28,
   "id": "54f97399",
   "metadata": {},
   "outputs": [
    {
     "name": "stdout",
     "output_type": "stream",
     "text": [
      "<class 'pandas.core.frame.DataFrame'>\n",
      "RangeIndex: 36275 entries, 0 to 36274\n",
      "Data columns (total 20 columns):\n",
      " #   Column                                Non-Null Count  Dtype   \n",
      "---  ------                                --------------  -----   \n",
      " 0   no_of_adults                          36275 non-null  int64   \n",
      " 1   no_of_children                        36275 non-null  int64   \n",
      " 2   no_of_weekend_nights                  36275 non-null  int64   \n",
      " 3   no_of_week_nights                     36275 non-null  int64   \n",
      " 4   type_of_meal_plan                     36275 non-null  category\n",
      " 5   required_car_parking_space            36275 non-null  category\n",
      " 6   room_type_reserved                    36275 non-null  category\n",
      " 7   lead_time                             36275 non-null  float64 \n",
      " 8   arrival_year                          36275 non-null  category\n",
      " 9   arrival_month                         36275 non-null  category\n",
      " 10  arrival_date                          36275 non-null  int64   \n",
      " 11  market_segment_type                   36275 non-null  category\n",
      " 12  repeated_guest                        36275 non-null  category\n",
      " 13  no_of_previous_cancellations          36275 non-null  int64   \n",
      " 14  no_of_previous_bookings_not_canceled  36275 non-null  int64   \n",
      " 15  avg_price_per_room                    36275 non-null  float64 \n",
      " 16  no_of_special_requests                36275 non-null  int64   \n",
      " 17  booking_status                        36275 non-null  int64   \n",
      " 18  no_of_week_nights_log                 36275 non-null  float64 \n",
      " 19  lead_time_log                         36275 non-null  float64 \n",
      "dtypes: category(7), float64(4), int64(9)\n",
      "memory usage: 3.8 MB\n"
     ]
    }
   ],
   "source": [
    "df1.info()"
   ]
  },
  {
   "cell_type": "markdown",
   "id": "af0fd952",
   "metadata": {},
   "source": [
    "**Getting the dummies variables**"
   ]
  },
  {
   "cell_type": "code",
   "execution_count": 44,
   "id": "4cfc40d9",
   "metadata": {},
   "outputs": [],
   "source": [
    "X = df1.drop([\"booking_status\"], axis=1)\n",
    "Y = df1[\"booking_status\"]\n",
    "\n",
    "# adding a contstant to X variable\n",
    "X = add_constant(X)\n",
    "\n",
    "# creating dummies\n",
    "X = pd.get_dummies(X,columns=X.select_dtypes(include=[\"object\", \"category\"]).columns.tolist(), drop_first=True)\n",
    "\n",
    "\n",
    "# Splitting data in train and test sets\n",
    "X_train, X_test, y_train, y_test = train_test_split(\n",
    "    X, Y, test_size=0.30, random_state=1, stratify=Y\n",
    ")"
   ]
  },
  {
   "cell_type": "code",
   "execution_count": 45,
   "id": "f2815e7d",
   "metadata": {
    "scrolled": true
   },
   "outputs": [
    {
     "data": {
      "text/html": [
       "<div>\n",
       "<style scoped>\n",
       "    .dataframe tbody tr th:only-of-type {\n",
       "        vertical-align: middle;\n",
       "    }\n",
       "\n",
       "    .dataframe tbody tr th {\n",
       "        vertical-align: top;\n",
       "    }\n",
       "\n",
       "    .dataframe thead th {\n",
       "        text-align: right;\n",
       "    }\n",
       "</style>\n",
       "<table border=\"1\" class=\"dataframe\">\n",
       "  <thead>\n",
       "    <tr style=\"text-align: right;\">\n",
       "      <th></th>\n",
       "      <th>const</th>\n",
       "      <th>no_of_adults</th>\n",
       "      <th>no_of_children</th>\n",
       "      <th>no_of_weekend_nights</th>\n",
       "      <th>no_of_week_nights</th>\n",
       "      <th>lead_time</th>\n",
       "      <th>arrival_date</th>\n",
       "      <th>no_of_previous_cancellations</th>\n",
       "      <th>no_of_previous_bookings_not_canceled</th>\n",
       "      <th>avg_price_per_room</th>\n",
       "      <th>...</th>\n",
       "      <th>arrival_month_March</th>\n",
       "      <th>arrival_month_May</th>\n",
       "      <th>arrival_month_November</th>\n",
       "      <th>arrival_month_October</th>\n",
       "      <th>arrival_month_September</th>\n",
       "      <th>market_segment_type_Complementary</th>\n",
       "      <th>market_segment_type_Corporate</th>\n",
       "      <th>market_segment_type_Offline</th>\n",
       "      <th>market_segment_type_Online</th>\n",
       "      <th>repeated_guest_Yes</th>\n",
       "    </tr>\n",
       "  </thead>\n",
       "  <tbody>\n",
       "    <tr>\n",
       "      <th>6870</th>\n",
       "      <td>1.0</td>\n",
       "      <td>2</td>\n",
       "      <td>0</td>\n",
       "      <td>2</td>\n",
       "      <td>3</td>\n",
       "      <td>5.0</td>\n",
       "      <td>30</td>\n",
       "      <td>0</td>\n",
       "      <td>0</td>\n",
       "      <td>116.0</td>\n",
       "      <td>...</td>\n",
       "      <td>0</td>\n",
       "      <td>0</td>\n",
       "      <td>0</td>\n",
       "      <td>0</td>\n",
       "      <td>0</td>\n",
       "      <td>0</td>\n",
       "      <td>0</td>\n",
       "      <td>0</td>\n",
       "      <td>1</td>\n",
       "      <td>0</td>\n",
       "    </tr>\n",
       "    <tr>\n",
       "      <th>531</th>\n",
       "      <td>1.0</td>\n",
       "      <td>2</td>\n",
       "      <td>1</td>\n",
       "      <td>0</td>\n",
       "      <td>3</td>\n",
       "      <td>86.0</td>\n",
       "      <td>8</td>\n",
       "      <td>0</td>\n",
       "      <td>0</td>\n",
       "      <td>122.0</td>\n",
       "      <td>...</td>\n",
       "      <td>0</td>\n",
       "      <td>0</td>\n",
       "      <td>0</td>\n",
       "      <td>0</td>\n",
       "      <td>0</td>\n",
       "      <td>0</td>\n",
       "      <td>0</td>\n",
       "      <td>0</td>\n",
       "      <td>1</td>\n",
       "      <td>0</td>\n",
       "    </tr>\n",
       "    <tr>\n",
       "      <th>3394</th>\n",
       "      <td>1.0</td>\n",
       "      <td>1</td>\n",
       "      <td>0</td>\n",
       "      <td>0</td>\n",
       "      <td>3</td>\n",
       "      <td>105.0</td>\n",
       "      <td>5</td>\n",
       "      <td>0</td>\n",
       "      <td>0</td>\n",
       "      <td>117.3</td>\n",
       "      <td>...</td>\n",
       "      <td>0</td>\n",
       "      <td>1</td>\n",
       "      <td>0</td>\n",
       "      <td>0</td>\n",
       "      <td>0</td>\n",
       "      <td>0</td>\n",
       "      <td>0</td>\n",
       "      <td>0</td>\n",
       "      <td>1</td>\n",
       "      <td>0</td>\n",
       "    </tr>\n",
       "    <tr>\n",
       "      <th>23540</th>\n",
       "      <td>1.0</td>\n",
       "      <td>1</td>\n",
       "      <td>0</td>\n",
       "      <td>1</td>\n",
       "      <td>1</td>\n",
       "      <td>85.0</td>\n",
       "      <td>3</td>\n",
       "      <td>0</td>\n",
       "      <td>0</td>\n",
       "      <td>98.0</td>\n",
       "      <td>...</td>\n",
       "      <td>0</td>\n",
       "      <td>0</td>\n",
       "      <td>0</td>\n",
       "      <td>0</td>\n",
       "      <td>0</td>\n",
       "      <td>0</td>\n",
       "      <td>0</td>\n",
       "      <td>0</td>\n",
       "      <td>1</td>\n",
       "      <td>0</td>\n",
       "    </tr>\n",
       "    <tr>\n",
       "      <th>15302</th>\n",
       "      <td>1.0</td>\n",
       "      <td>2</td>\n",
       "      <td>0</td>\n",
       "      <td>1</td>\n",
       "      <td>2</td>\n",
       "      <td>289.5</td>\n",
       "      <td>13</td>\n",
       "      <td>0</td>\n",
       "      <td>0</td>\n",
       "      <td>101.0</td>\n",
       "      <td>...</td>\n",
       "      <td>0</td>\n",
       "      <td>1</td>\n",
       "      <td>0</td>\n",
       "      <td>0</td>\n",
       "      <td>0</td>\n",
       "      <td>0</td>\n",
       "      <td>0</td>\n",
       "      <td>1</td>\n",
       "      <td>0</td>\n",
       "      <td>0</td>\n",
       "    </tr>\n",
       "  </tbody>\n",
       "</table>\n",
       "<p>5 rows × 40 columns</p>\n",
       "</div>"
      ],
      "text/plain": [
       "       const  no_of_adults  no_of_children  no_of_weekend_nights  \\\n",
       "6870     1.0             2               0                     2   \n",
       "531      1.0             2               1                     0   \n",
       "3394     1.0             1               0                     0   \n",
       "23540    1.0             1               0                     1   \n",
       "15302    1.0             2               0                     1   \n",
       "\n",
       "       no_of_week_nights  lead_time  arrival_date  \\\n",
       "6870                   3        5.0            30   \n",
       "531                    3       86.0             8   \n",
       "3394                   3      105.0             5   \n",
       "23540                  1       85.0             3   \n",
       "15302                  2      289.5            13   \n",
       "\n",
       "       no_of_previous_cancellations  no_of_previous_bookings_not_canceled  \\\n",
       "6870                              0                                     0   \n",
       "531                               0                                     0   \n",
       "3394                              0                                     0   \n",
       "23540                             0                                     0   \n",
       "15302                             0                                     0   \n",
       "\n",
       "       avg_price_per_room  ...  arrival_month_March  arrival_month_May  \\\n",
       "6870                116.0  ...                    0                  0   \n",
       "531                 122.0  ...                    0                  0   \n",
       "3394                117.3  ...                    0                  1   \n",
       "23540                98.0  ...                    0                  0   \n",
       "15302               101.0  ...                    0                  1   \n",
       "\n",
       "       arrival_month_November  arrival_month_October  arrival_month_September  \\\n",
       "6870                        0                      0                        0   \n",
       "531                         0                      0                        0   \n",
       "3394                        0                      0                        0   \n",
       "23540                       0                      0                        0   \n",
       "15302                       0                      0                        0   \n",
       "\n",
       "       market_segment_type_Complementary  market_segment_type_Corporate  \\\n",
       "6870                                   0                              0   \n",
       "531                                    0                              0   \n",
       "3394                                   0                              0   \n",
       "23540                                  0                              0   \n",
       "15302                                  0                              0   \n",
       "\n",
       "       market_segment_type_Offline  market_segment_type_Online  \\\n",
       "6870                             0                           1   \n",
       "531                              0                           1   \n",
       "3394                             0                           1   \n",
       "23540                            0                           1   \n",
       "15302                            1                           0   \n",
       "\n",
       "       repeated_guest_Yes  \n",
       "6870                    0  \n",
       "531                     0  \n",
       "3394                    0  \n",
       "23540                   0  \n",
       "15302                   0  \n",
       "\n",
       "[5 rows x 40 columns]"
      ]
     },
     "execution_count": 45,
     "metadata": {},
     "output_type": "execute_result"
    }
   ],
   "source": [
    "X_train.head()"
   ]
  },
  {
   "cell_type": "markdown",
   "id": "2817ce6e",
   "metadata": {},
   "source": [
    "### 2.1.1 Logistic Regression Model Performance"
   ]
  },
  {
   "cell_type": "code",
   "execution_count": 46,
   "id": "c9edd400",
   "metadata": {},
   "outputs": [],
   "source": [
    "# defining a function to compute different metrics to check performance of a classification model built using statsmodels\n",
    "def model_performance_classification_metrics(\n",
    "    model, predictors, target, threshold=0.5\n",
    "):\n",
    "    \"\"\"\n",
    "    Function to compute different metrics to check classification model performance\n",
    "    \"\"\"\n",
    "\n",
    "    # checking which probabilities are greater than threshold\n",
    "    pred_temp = model.predict(predictors) > threshold #if is more than threshold then print\n",
    "    # rounding off the above values to get classes\n",
    "    pred = np.round(pred_temp)\n",
    "\n",
    "    acc = accuracy_score(target, pred)  # to compute Accuracy\n",
    "    recall = recall_score(target, pred)  # to compute Recall\n",
    "    precision = precision_score(target, pred)  # to compute Precision\n",
    "    f1 = f1_score(target, pred)  # to compute F1-score\n",
    "\n",
    "    # creating a dataframe of metrics\n",
    "    df_perf = pd.DataFrame(\n",
    "        {\"Accuracy\": acc, \"Recall\": recall, \"Precision\": precision, \"F1\": f1,},\n",
    "        index=[0],\n",
    "    )\n",
    "\n",
    "    return df_perf"
   ]
  },
  {
   "cell_type": "code",
   "execution_count": 47,
   "id": "927acc93",
   "metadata": {},
   "outputs": [
    {
     "name": "stdout",
     "output_type": "stream",
     "text": [
      "Warning: Maximum number of iterations has been exceeded.\n",
      "         Current function value: 0.408770\n",
      "         Iterations: 35\n",
      "         Function evaluations: 39\n",
      "         Gradient evaluations: 39\n",
      "Training Performance:\n"
     ]
    },
    {
     "data": {
      "text/html": [
       "<div>\n",
       "<style scoped>\n",
       "    .dataframe tbody tr th:only-of-type {\n",
       "        vertical-align: middle;\n",
       "    }\n",
       "\n",
       "    .dataframe tbody tr th {\n",
       "        vertical-align: top;\n",
       "    }\n",
       "\n",
       "    .dataframe thead th {\n",
       "        text-align: right;\n",
       "    }\n",
       "</style>\n",
       "<table border=\"1\" class=\"dataframe\">\n",
       "  <thead>\n",
       "    <tr style=\"text-align: right;\">\n",
       "      <th></th>\n",
       "      <th>Accuracy</th>\n",
       "      <th>Recall</th>\n",
       "      <th>Precision</th>\n",
       "      <th>F1</th>\n",
       "    </tr>\n",
       "  </thead>\n",
       "  <tbody>\n",
       "    <tr>\n",
       "      <th>0</th>\n",
       "      <td>0.813209</td>\n",
       "      <td>0.665705</td>\n",
       "      <td>0.7384</td>\n",
       "      <td>0.700171</td>\n",
       "    </tr>\n",
       "  </tbody>\n",
       "</table>\n",
       "</div>"
      ],
      "text/plain": [
       "   Accuracy    Recall  Precision        F1\n",
       "0  0.813209  0.665705     0.7384  0.700171"
      ]
     },
     "execution_count": 47,
     "metadata": {},
     "output_type": "execute_result"
    }
   ],
   "source": [
    "# fitting the model on training set\n",
    "logit = sm.Logit(y_train, X_train.astype(float))\n",
    "lg = logit.fit(method='bfgs')\n",
    "\n",
    "print(\"Training Performance:\")\n",
    "model_performance_classification_metrics(lg, X_train, y_train)"
   ]
  },
  {
   "cell_type": "code",
   "execution_count": 48,
   "id": "0fba47a3",
   "metadata": {},
   "outputs": [
    {
     "name": "stdout",
     "output_type": "stream",
     "text": [
      "                           Logit Regression Results                           \n",
      "==============================================================================\n",
      "Dep. Variable:         booking_status   No. Observations:                25392\n",
      "Model:                          Logit   Df Residuals:                    25352\n",
      "Method:                           MLE   Df Model:                           39\n",
      "Date:                Fri, 23 Dec 2022   Pseudo R-squ.:                  0.3537\n",
      "Time:                        12:31:46   Log-Likelihood:                -10379.\n",
      "converged:                      False   LL-Null:                       -16060.\n",
      "Covariance Type:            nonrobust   LLR p-value:                     0.000\n",
      "========================================================================================================\n",
      "                                           coef    std err          z      P>|z|      [0.025      0.975]\n",
      "--------------------------------------------------------------------------------------------------------\n",
      "const                                   -3.2195      0.290    -11.118      0.000      -3.787      -2.652\n",
      "no_of_adults                             0.0404      0.039      1.032      0.302      -0.036       0.117\n",
      "no_of_children                           0.0177      0.064      0.275      0.783      -0.108       0.143\n",
      "no_of_weekend_nights                     0.0295      0.022      1.349      0.177      -0.013       0.072\n",
      "no_of_week_nights                        0.4155      0.040     10.481      0.000       0.338       0.493\n",
      "lead_time                                0.0140      0.000     32.332      0.000       0.013       0.015\n",
      "arrival_date                             0.0054      0.002      2.724      0.006       0.002       0.009\n",
      "no_of_previous_cancellations             0.1827      0.089      2.059      0.040       0.009       0.357\n",
      "no_of_previous_bookings_not_canceled    -0.9631      0.459     -2.099      0.036      -1.862      -0.064\n",
      "avg_price_per_room                       0.0178      0.001     19.796      0.000       0.016       0.020\n",
      "no_of_special_requests                  -1.5566      0.031    -49.838      0.000      -1.618      -1.495\n",
      "no_of_week_nights_log                   -1.2974      0.126    -10.332      0.000      -1.544      -1.051\n",
      "lead_time_log                            0.2298      0.026      8.882      0.000       0.179       0.281\n",
      "type_of_meal_plan_Meal Plan 2            0.4466      0.066      6.719      0.000       0.316       0.577\n",
      "type_of_meal_plan_Meal Plan 3            0.0103      2.338      0.004      0.996      -4.572       4.593\n",
      "type_of_meal_plan_Not Selected           0.2280      0.055      4.125      0.000       0.120       0.336\n",
      "required_car_parking_space_Yes          -1.1483      0.127     -9.027      0.000      -1.398      -0.899\n",
      "room_type_reserved_Room_Type 2          -0.3618      0.137     -2.647      0.008      -0.630      -0.094\n",
      "room_type_reserved_Room_Type 3           0.0012      1.719      0.001      0.999      -3.367       3.370\n",
      "room_type_reserved_Room_Type 4          -0.2093      0.054     -3.845      0.000      -0.316      -0.103\n",
      "room_type_reserved_Room_Type 5          -0.1270      0.213     -0.595      0.552      -0.545       0.291\n",
      "room_type_reserved_Room_Type 6           0.0259      0.154      0.168      0.866      -0.276       0.328\n",
      "room_type_reserved_Room_Type 7           0.0050      0.275      0.018      0.986      -0.535       0.544\n",
      "arrival_year_2018                        0.4255      0.064      6.643      0.000       0.300       0.551\n",
      "arrival_month_August                    -0.3317      0.080     -4.133      0.000      -0.489      -0.174\n",
      "arrival_month_December                  -1.9218      0.108    -17.822      0.000      -2.133      -1.710\n",
      "arrival_month_February                   0.5974      0.096      6.228      0.000       0.409       0.785\n",
      "arrival_month_January                   -1.3064      0.178     -7.327      0.000      -1.656      -0.957\n",
      "arrival_month_July                      -0.2136      0.082     -2.611      0.009      -0.374      -0.053\n",
      "arrival_month_June                      -0.0374      0.079     -0.472      0.637      -0.193       0.118\n",
      "arrival_month_March                      0.2898      0.084      3.458      0.001       0.126       0.454\n",
      "arrival_month_May                       -0.3787      0.083     -4.555      0.000      -0.542      -0.216\n",
      "arrival_month_November                   0.3143      0.085      3.682      0.000       0.147       0.482\n",
      "arrival_month_October                   -0.0299      0.077     -0.387      0.699      -0.181       0.121\n",
      "arrival_month_September                 -0.2995      0.080     -3.733      0.000      -0.457      -0.142\n",
      "market_segment_type_Complementary       -0.2790      0.467     -0.598      0.550      -1.194       0.636\n",
      "market_segment_type_Corporate           -0.9763      0.282     -3.461      0.001      -1.529      -0.423\n",
      "market_segment_type_Offline             -1.8713      0.271     -6.905      0.000      -2.402      -1.340\n",
      "market_segment_type_Online              -0.0634      0.268     -0.236      0.813      -0.589       0.462\n",
      "repeated_guest_Yes                      -0.4121      0.501     -0.822      0.411      -1.394       0.570\n",
      "========================================================================================================\n"
     ]
    }
   ],
   "source": [
    "print(lg.summary())"
   ]
  },
  {
   "cell_type": "markdown",
   "id": "293185f7",
   "metadata": {},
   "source": [
    "### 2.1.2 Checking Multicollinearity"
   ]
  },
  {
   "cell_type": "markdown",
   "id": "5dcc19b9",
   "metadata": {},
   "source": [
    "The next is to check the performance"
   ]
  },
  {
   "cell_type": "code",
   "execution_count": 34,
   "id": "2b1f3f63",
   "metadata": {},
   "outputs": [],
   "source": [
    "# defining a function to plot the confusion_matrix of a classification model\n",
    "def confusion_matrix_statsmodels(model, predictors, target, threshold=0.5):\n",
    "    \"\"\"\n",
    "    To plot the confusion_matrix with percentages\n",
    "\n",
    "    threshold: threshold for classifying the observation as class 1\n",
    "    \"\"\"\n",
    "    y_pred = model.predict(predictors) > threshold\n",
    "    cm = confusion_matrix(target, y_pred) #actual values , predict values\n",
    "    labels = np.asarray(\n",
    "        [\n",
    "            [\"{0:0.0f}\".format(item) + \"\\n{0:.2%}\".format(item / cm.flatten().sum())]\n",
    "            for item in cm.flatten()\n",
    "        ]\n",
    "    ).reshape(2, 2)\n",
    "\n",
    "    plt.figure(figsize=(6, 4))\n",
    "    sns.heatmap(cm, annot=labels, fmt=\"\")\n",
    "    plt.ylabel(\"True label\")\n",
    "    plt.xlabel(\"Predicted label\")"
   ]
  },
  {
   "cell_type": "code",
   "execution_count": 35,
   "id": "e401d3de",
   "metadata": {},
   "outputs": [],
   "source": [
    "# let's check the VIF of the predictors\n",
    "from statsmodels.stats.outliers_influence import variance_inflation_factor\n",
    "\n",
    "def checking_vif(predictors):    \n",
    "    vif_series1 = pd.Series(\n",
    "        [variance_inflation_factor(predictors.values, i) for i in range(predictors.shape[1])],\n",
    "        index=predictors.columns,\n",
    "    )\n",
    "    i=0\n",
    "    for num in vif_series1: \n",
    "        num='{0:.4g}'.format(num)\n",
    "        vif_series1[i]=num\n",
    "        i=i+1\n",
    "    return vif_series1[vif_series1.values<=10], vif_series1[vif_series1.values>10] "
   ]
  },
  {
   "cell_type": "code",
   "execution_count": 36,
   "id": "70b139db",
   "metadata": {},
   "outputs": [
    {
     "name": "stdout",
     "output_type": "stream",
     "text": [
      "VIF<=10:\n",
      "\n",
      " no_of_adults                            1.406\n",
      "no_of_children                          2.037\n",
      "no_of_weekend_nights                    1.254\n",
      "lead_time                               3.642\n",
      "arrival_date                            1.015\n",
      "no_of_previous_cancellations            1.331\n",
      "no_of_previous_bookings_not_canceled    1.577\n",
      "avg_price_per_room                      2.485\n",
      "no_of_special_requests                  1.254\n",
      "lead_time_log                           3.756\n",
      "type_of_meal_plan_Meal Plan 2           1.271\n",
      "type_of_meal_plan_Meal Plan 3           1.008\n",
      "type_of_meal_plan_Not Selected          1.304\n",
      "required_car_parking_space_Yes          1.042\n",
      "room_type_reserved_Room_Type 2          1.098\n",
      "room_type_reserved_Room_Type 3          1.004\n",
      "room_type_reserved_Room_Type 4          1.378\n",
      "room_type_reserved_Room_Type 5          1.033\n",
      "room_type_reserved_Room_Type 6          1.972\n",
      "room_type_reserved_Room_Type 7          1.078\n",
      "arrival_year_2018                       1.584\n",
      "arrival_month_August                    2.309\n",
      "arrival_month_December                  2.015\n",
      "arrival_month_February                  1.629\n",
      "arrival_month_January                   1.397\n",
      "arrival_month_July                      1.982\n",
      "arrival_month_June                      2.049\n",
      "arrival_month_March                     1.780\n",
      "arrival_month_May                       1.833\n",
      "arrival_month_November                  1.991\n",
      "arrival_month_October                   2.760\n",
      "arrival_month_September                 2.642\n",
      "market_segment_type_Complementary       4.321\n",
      "repeated_guest_Yes                      1.767\n",
      "dtype: float64 \n",
      "\n",
      "VIF>10:\n",
      "\n",
      " const                            344.50\n",
      "no_of_week_nights                 10.07\n",
      "no_of_week_nights_log             10.07\n",
      "market_segment_type_Corporate     16.75\n",
      "market_segment_type_Offline       63.33\n",
      "market_segment_type_Online        70.37\n",
      "dtype: float64\n"
     ]
    }
   ],
   "source": [
    "vif_less10,vif_greater10 = checking_vif(X_train)\n",
    "print('VIF<=10:\\n\\n',vif_less10,'\\n')\n",
    "print('VIF>10:\\n\\n',vif_greater10)"
   ]
  },
  {
   "cell_type": "code",
   "execution_count": 76,
   "id": "0c379a1d",
   "metadata": {},
   "outputs": [
    {
     "data": {
      "text/plain": [
       "-19.000000000000014"
      ]
     },
     "execution_count": 76,
     "metadata": {},
     "output_type": "execute_result"
    }
   ],
   "source": [
    "np.linalg.det([[3,5],[56,87]])"
   ]
  },
  {
   "cell_type": "markdown",
   "id": "d409752d",
   "metadata": {},
   "source": [
    "* **First Let's see dropping: market_segment_type_Online**"
   ]
  },
  {
   "cell_type": "code",
   "execution_count": 37,
   "id": "d193aa16",
   "metadata": {},
   "outputs": [
    {
     "name": "stdout",
     "output_type": "stream",
     "text": [
      "VIF<=10:\n",
      "\n",
      " no_of_adults                            1.394\n",
      "no_of_children                          2.037\n",
      "no_of_weekend_nights                    1.253\n",
      "lead_time                               3.641\n",
      "arrival_date                            1.015\n",
      "no_of_previous_cancellations            1.331\n",
      "no_of_previous_bookings_not_canceled    1.577\n",
      "avg_price_per_room                      2.479\n",
      "no_of_special_requests                  1.250\n",
      "lead_time_log                           3.730\n",
      "type_of_meal_plan_Meal Plan 2           1.271\n",
      "type_of_meal_plan_Meal Plan 3           1.008\n",
      "type_of_meal_plan_Not Selected          1.301\n",
      "required_car_parking_space_Yes          1.042\n",
      "room_type_reserved_Room_Type 2          1.098\n",
      "room_type_reserved_Room_Type 3          1.004\n",
      "room_type_reserved_Room_Type 4          1.373\n",
      "room_type_reserved_Room_Type 5          1.033\n",
      "room_type_reserved_Room_Type 6          1.972\n",
      "room_type_reserved_Room_Type 7          1.078\n",
      "arrival_year_2018                       1.579\n",
      "arrival_month_August                    2.309\n",
      "arrival_month_December                  2.014\n",
      "arrival_month_February                  1.626\n",
      "arrival_month_January                   1.394\n",
      "arrival_month_July                      1.982\n",
      "arrival_month_June                      2.048\n",
      "arrival_month_March                     1.778\n",
      "arrival_month_May                       1.832\n",
      "arrival_month_November                  1.991\n",
      "arrival_month_October                   2.759\n",
      "arrival_month_September                 2.642\n",
      "market_segment_type_Complementary       1.337\n",
      "market_segment_type_Corporate           1.562\n",
      "market_segment_type_Offline             1.671\n",
      "repeated_guest_Yes                      1.765\n",
      "dtype: float64 \n",
      "\n",
      "VIF>10:\n",
      "\n",
      " const                    72.93\n",
      "no_of_week_nights        10.06\n",
      "no_of_week_nights_log    10.07\n",
      "dtype: float64\n"
     ]
    }
   ],
   "source": [
    "X_train1 = X_train.drop(\"market_segment_type_Online\", axis=1)\n",
    "vif_less10,vif_greater10 = checking_vif(X_train1)\n",
    "print('VIF<=10:\\n\\n',vif_less10,'\\n')\n",
    "print('VIF>10:\\n\\n',vif_greater10)"
   ]
  },
  {
   "cell_type": "code",
   "execution_count": 38,
   "id": "6f50a6e5",
   "metadata": {},
   "outputs": [
    {
     "name": "stdout",
     "output_type": "stream",
     "text": [
      "Warning: Maximum number of iterations has been exceeded.\n",
      "         Current function value: 0.409937\n",
      "         Iterations: 35\n",
      "         Function evaluations: 39\n",
      "         Gradient evaluations: 39\n",
      "Training Performance:\n"
     ]
    },
    {
     "data": {
      "text/html": [
       "<div>\n",
       "<style scoped>\n",
       "    .dataframe tbody tr th:only-of-type {\n",
       "        vertical-align: middle;\n",
       "    }\n",
       "\n",
       "    .dataframe tbody tr th {\n",
       "        vertical-align: top;\n",
       "    }\n",
       "\n",
       "    .dataframe thead th {\n",
       "        text-align: right;\n",
       "    }\n",
       "</style>\n",
       "<table border=\"1\" class=\"dataframe\">\n",
       "  <thead>\n",
       "    <tr style=\"text-align: right;\">\n",
       "      <th></th>\n",
       "      <th>Accuracy</th>\n",
       "      <th>Recall</th>\n",
       "      <th>Precision</th>\n",
       "      <th>F1</th>\n",
       "    </tr>\n",
       "  </thead>\n",
       "  <tbody>\n",
       "    <tr>\n",
       "      <th>0</th>\n",
       "      <td>0.812303</td>\n",
       "      <td>0.665585</td>\n",
       "      <td>0.736205</td>\n",
       "      <td>0.699116</td>\n",
       "    </tr>\n",
       "  </tbody>\n",
       "</table>\n",
       "</div>"
      ],
      "text/plain": [
       "   Accuracy    Recall  Precision        F1\n",
       "0  0.812303  0.665585   0.736205  0.699116"
      ]
     },
     "execution_count": 38,
     "metadata": {},
     "output_type": "execute_result"
    }
   ],
   "source": [
    "logit1 = sm.Logit(y_train, X_train1.astype(float))\n",
    "lg1 = logit1.fit(method='bfgs')\n",
    "\n",
    "print(\"Training Performance:\")\n",
    "model_performance_classification_metrics(lg1, X_train1, y_train)"
   ]
  },
  {
   "cell_type": "markdown",
   "id": "22ddf424",
   "metadata": {},
   "source": [
    "* There is no significant change in the model performance as compared to initial model."
   ]
  },
  {
   "cell_type": "markdown",
   "id": "da85ae60",
   "metadata": {},
   "source": [
    "* **Now Let's drop: no_of_week_nights_log**"
   ]
  },
  {
   "cell_type": "code",
   "execution_count": 39,
   "id": "33b02165",
   "metadata": {},
   "outputs": [
    {
     "name": "stdout",
     "output_type": "stream",
     "text": [
      "VIF<=10:\n",
      "\n",
      " no_of_adults                            1.391\n",
      "no_of_children                          2.037\n",
      "no_of_weekend_nights                    1.082\n",
      "no_of_week_nights                       1.123\n",
      "lead_time                               3.637\n",
      "arrival_date                            1.015\n",
      "no_of_previous_cancellations            1.331\n",
      "no_of_previous_bookings_not_canceled    1.576\n",
      "avg_price_per_room                      2.477\n",
      "no_of_special_requests                  1.249\n",
      "lead_time_log                           3.678\n",
      "type_of_meal_plan_Meal Plan 2           1.270\n",
      "type_of_meal_plan_Meal Plan 3           1.008\n",
      "type_of_meal_plan_Not Selected          1.297\n",
      "required_car_parking_space_Yes          1.042\n",
      "room_type_reserved_Room_Type 2          1.097\n",
      "room_type_reserved_Room_Type 3          1.004\n",
      "room_type_reserved_Room_Type 4          1.373\n",
      "room_type_reserved_Room_Type 5          1.033\n",
      "room_type_reserved_Room_Type 6          1.972\n",
      "room_type_reserved_Room_Type 7          1.078\n",
      "arrival_year_2018                       1.576\n",
      "arrival_month_August                    2.308\n",
      "arrival_month_December                  2.014\n",
      "arrival_month_February                  1.625\n",
      "arrival_month_January                   1.394\n",
      "arrival_month_July                      1.981\n",
      "arrival_month_June                      2.048\n",
      "arrival_month_March                     1.777\n",
      "arrival_month_May                       1.832\n",
      "arrival_month_November                  1.991\n",
      "arrival_month_October                   2.758\n",
      "arrival_month_September                 2.641\n",
      "market_segment_type_Complementary       1.336\n",
      "market_segment_type_Corporate           1.560\n",
      "market_segment_type_Offline             1.667\n",
      "repeated_guest_Yes                      1.764\n",
      "dtype: float64 \n",
      "\n",
      "VIF>10:\n",
      "\n",
      " const    66.08\n",
      "dtype: float64\n"
     ]
    }
   ],
   "source": [
    "X_train2 = X_train1.drop(\"no_of_week_nights_log\", axis=1)\n",
    "vif_less10,vif_greater10 = checking_vif(X_train2)\n",
    "print('VIF<=10:\\n\\n',vif_less10,'\\n')\n",
    "print('VIF>10:\\n\\n',vif_greater10)"
   ]
  },
  {
   "cell_type": "code",
   "execution_count": 40,
   "id": "6aed1004",
   "metadata": {},
   "outputs": [
    {
     "name": "stdout",
     "output_type": "stream",
     "text": [
      "Warning: Maximum number of iterations has been exceeded.\n",
      "         Current function value: 0.411597\n",
      "         Iterations: 35\n",
      "         Function evaluations: 39\n",
      "         Gradient evaluations: 39\n",
      "Training Performance:\n"
     ]
    },
    {
     "data": {
      "text/html": [
       "<div>\n",
       "<style scoped>\n",
       "    .dataframe tbody tr th:only-of-type {\n",
       "        vertical-align: middle;\n",
       "    }\n",
       "\n",
       "    .dataframe tbody tr th {\n",
       "        vertical-align: top;\n",
       "    }\n",
       "\n",
       "    .dataframe thead th {\n",
       "        text-align: right;\n",
       "    }\n",
       "</style>\n",
       "<table border=\"1\" class=\"dataframe\">\n",
       "  <thead>\n",
       "    <tr style=\"text-align: right;\">\n",
       "      <th></th>\n",
       "      <th>Accuracy</th>\n",
       "      <th>Recall</th>\n",
       "      <th>Precision</th>\n",
       "      <th>F1</th>\n",
       "    </tr>\n",
       "  </thead>\n",
       "  <tbody>\n",
       "    <tr>\n",
       "      <th>0</th>\n",
       "      <td>0.810413</td>\n",
       "      <td>0.661017</td>\n",
       "      <td>0.733885</td>\n",
       "      <td>0.695548</td>\n",
       "    </tr>\n",
       "  </tbody>\n",
       "</table>\n",
       "</div>"
      ],
      "text/plain": [
       "   Accuracy    Recall  Precision        F1\n",
       "0  0.810413  0.661017   0.733885  0.695548"
      ]
     },
     "execution_count": 40,
     "metadata": {},
     "output_type": "execute_result"
    }
   ],
   "source": [
    "logit2 = sm.Logit(y_train, X_train2.astype(float))\n",
    "lg2 = logit2.fit(method='bfgs')\n",
    "\n",
    "print(\"Training Performance:\")\n",
    "model_performance_classification_metrics(lg2, X_train2, y_train)"
   ]
  },
  {
   "cell_type": "markdown",
   "id": "35711304",
   "metadata": {},
   "source": [
    "### 2.1.3. Dropping high p-values"
   ]
  },
  {
   "cell_type": "code",
   "execution_count": 41,
   "id": "5a7cef54",
   "metadata": {},
   "outputs": [
    {
     "name": "stdout",
     "output_type": "stream",
     "text": [
      "                           Logit Regression Results                           \n",
      "==============================================================================\n",
      "Dep. Variable:         booking_status   No. Observations:                25392\n",
      "Model:                          Logit   Df Residuals:                    25354\n",
      "Method:                           MLE   Df Model:                           37\n",
      "Date:                Thu, 22 Dec 2022   Pseudo R-squ.:                  0.3492\n",
      "Time:                        12:55:37   Log-Likelihood:                -10451.\n",
      "converged:                      False   LL-Null:                       -16060.\n",
      "Covariance Type:            nonrobust   LLR p-value:                     0.000\n",
      "========================================================================================================\n",
      "                                           coef    std err          z      P>|z|      [0.025      0.975]\n",
      "--------------------------------------------------------------------------------------------------------\n",
      "const                                   -3.0430      0.148    -20.597      0.000      -3.333      -2.753\n",
      "no_of_adults                            -0.0504      0.039     -1.305      0.192      -0.126       0.025\n",
      "no_of_children                          -0.0243      0.064     -0.381      0.703      -0.149       0.101\n",
      "no_of_weekend_nights                     0.0935      0.020      4.653      0.000       0.054       0.133\n",
      "no_of_week_nights                        0.0228      0.013      1.808      0.071      -0.002       0.048\n",
      "lead_time                                0.0145      0.000     33.851      0.000       0.014       0.015\n",
      "arrival_date                             0.0041      0.002      2.065      0.039       0.000       0.008\n",
      "no_of_previous_cancellations             0.1872      0.086      2.188      0.029       0.020       0.355\n",
      "no_of_previous_bookings_not_canceled    -0.9896      0.486     -2.036      0.042      -1.942      -0.037\n",
      "avg_price_per_room                       0.0162      0.001     18.332      0.000       0.014       0.018\n",
      "no_of_special_requests                  -1.5536      0.031    -50.249      0.000      -1.614      -1.493\n",
      "lead_time_log                            0.1603      0.025      6.488      0.000       0.112       0.209\n",
      "type_of_meal_plan_Meal Plan 2            0.5583      0.066      8.491      0.000       0.429       0.687\n",
      "type_of_meal_plan_Meal Plan 3            0.0096      2.440      0.004      0.997      -4.772       4.791\n",
      "type_of_meal_plan_Not Selected           0.1205      0.055      2.209      0.027       0.014       0.227\n",
      "required_car_parking_space_Yes          -1.0935      0.125     -8.738      0.000      -1.339      -0.848\n",
      "room_type_reserved_Room_Type 2          -0.3293      0.135     -2.442      0.015      -0.594      -0.065\n",
      "room_type_reserved_Room_Type 3           0.0010      1.696      0.001      1.000      -3.323       3.325\n",
      "room_type_reserved_Room_Type 4          -0.2496      0.054     -4.631      0.000      -0.355      -0.144\n",
      "room_type_reserved_Room_Type 5          -0.1407      0.215     -0.655      0.512      -0.561       0.280\n",
      "room_type_reserved_Room_Type 6           0.0031      0.153      0.020      0.984      -0.297       0.303\n",
      "room_type_reserved_Room_Type 7          -0.0038      0.276     -0.014      0.989      -0.544       0.537\n",
      "arrival_year_2018                        0.2732      0.062      4.375      0.000       0.151       0.396\n",
      "arrival_month_August                    -0.3442      0.080     -4.315      0.000      -0.500      -0.188\n",
      "arrival_month_December                  -1.8189      0.105    -17.255      0.000      -2.026      -1.612\n",
      "arrival_month_February                   0.5562      0.095      5.843      0.000       0.370       0.743\n",
      "arrival_month_January                   -1.1987      0.170     -7.071      0.000      -1.531      -0.866\n",
      "arrival_month_July                      -0.2309      0.082     -2.830      0.005      -0.391      -0.071\n",
      "arrival_month_June                       0.0079      0.079      0.100      0.920      -0.147       0.163\n",
      "arrival_month_March                      0.2414      0.084      2.889      0.004       0.078       0.405\n",
      "arrival_month_May                       -0.4200      0.083     -5.052      0.000      -0.583      -0.257\n",
      "arrival_month_November                   0.2816      0.085      3.320      0.001       0.115       0.448\n",
      "arrival_month_October                    0.0262      0.077      0.342      0.732      -0.124       0.176\n",
      "arrival_month_September                 -0.2527      0.080     -3.173      0.002      -0.409      -0.097\n",
      "market_segment_type_Complementary       -0.3145      0.364     -0.864      0.387      -1.028       0.399\n",
      "market_segment_type_Corporate           -1.3308      0.114    -11.691      0.000      -1.554      -1.108\n",
      "market_segment_type_Offline             -2.0323      0.054    -37.624      0.000      -2.138      -1.926\n",
      "repeated_guest_Yes                      -0.4167      0.493     -0.844      0.398      -1.384       0.550\n",
      "========================================================================================================\n"
     ]
    }
   ],
   "source": [
    "print(lg2.summary())"
   ]
  },
  {
   "cell_type": "code",
   "execution_count": 43,
   "id": "8c6d7d1a",
   "metadata": {},
   "outputs": [],
   "source": [
    "# running a loop to drop variables with high p-value\n",
    "# initial list of columns\n",
    "cols = X_train2.columns.tolist()\n",
    "\n",
    "# setting an initial max p-value\n",
    "max_p_value = 1\n",
    "\n",
    "while len(cols) > 0:\n",
    "    # defining the train set\n",
    "    X_train_aux = X_train2[cols]\n",
    "\n",
    "    # fitting the model\n",
    "    model = sm.Logit(y_train, X_train_aux).fit(disp=False, method='bfgs')\n",
    "\n",
    "    # getting the p-values and the maximum p-value\n",
    "    p_values = model.pvalues\n",
    "    max_p_value = max(p_values)\n",
    "\n",
    "    # name of the variable with maximum p-value\n",
    "    feature_with_p_max = p_values.idxmax()\n",
    "\n",
    "    if max_p_value > 0.05:\n",
    "        cols.remove(feature_with_p_max)\n",
    "    else:\n",
    "        break\n",
    "\n",
    "selected_features = cols"
   ]
  },
  {
   "cell_type": "code",
   "execution_count": 83,
   "id": "6bb64c26",
   "metadata": {},
   "outputs": [
    {
     "name": "stdout",
     "output_type": "stream",
     "text": [
      "['const', 'no_of_weekend_nights', 'lead_time', 'no_of_previous_bookings_not_canceled', 'avg_price_per_room', 'no_of_special_requests', 'lead_time_log', 'type_of_meal_plan_Meal Plan 2', 'required_car_parking_space_Yes', 'room_type_reserved_Room_Type 2', 'room_type_reserved_Room_Type 4', 'arrival_year_2018', 'arrival_month_August', 'arrival_month_December', 'arrival_month_February', 'arrival_month_January', 'arrival_month_July', 'arrival_month_March', 'arrival_month_May', 'arrival_month_November', 'arrival_month_September', 'market_segment_type_Corporate', 'market_segment_type_Offline']\n"
     ]
    }
   ],
   "source": [
    "print(selected_features)"
   ]
  },
  {
   "cell_type": "code",
   "execution_count": 84,
   "id": "0cf7558d",
   "metadata": {},
   "outputs": [],
   "source": [
    "X_train3 = X_train2[selected_features]"
   ]
  },
  {
   "cell_type": "code",
   "execution_count": 85,
   "id": "3a0b1cc4",
   "metadata": {},
   "outputs": [
    {
     "name": "stdout",
     "output_type": "stream",
     "text": [
      "Warning: Maximum number of iterations has been exceeded.\n",
      "         Current function value: 0.410677\n",
      "         Iterations: 35\n",
      "         Function evaluations: 38\n",
      "         Gradient evaluations: 38\n",
      "                           Logit Regression Results                           \n",
      "==============================================================================\n",
      "Dep. Variable:         booking_status   No. Observations:                25392\n",
      "Model:                          Logit   Df Residuals:                    25369\n",
      "Method:                           MLE   Df Model:                           22\n",
      "Date:                Fri, 29 Apr 2022   Pseudo R-squ.:                  0.3507\n",
      "Time:                        17:24:05   Log-Likelihood:                -10428.\n",
      "converged:                      False   LL-Null:                       -16060.\n",
      "Covariance Type:            nonrobust   LLR p-value:                     0.000\n",
      "========================================================================================================\n",
      "                                           coef    std err          z      P>|z|      [0.025      0.975]\n",
      "--------------------------------------------------------------------------------------------------------\n",
      "const                                   -3.6875      0.125    -29.546      0.000      -3.932      -3.443\n",
      "no_of_weekend_nights                     0.1546      0.020      7.705      0.000       0.115       0.194\n",
      "lead_time                                0.0144      0.000     33.159      0.000       0.014       0.015\n",
      "no_of_previous_bookings_not_canceled    -1.1613      0.398     -2.921      0.003      -1.941      -0.382\n",
      "avg_price_per_room                       0.0175      0.001     23.469      0.000       0.016       0.019\n",
      "no_of_special_requests                  -1.5782      0.031    -50.832      0.000      -1.639      -1.517\n",
      "lead_time_log                            0.2138      0.026      8.369      0.000       0.164       0.264\n",
      "type_of_meal_plan_Meal Plan 2            0.4213      0.067      6.325      0.000       0.291       0.552\n",
      "required_car_parking_space_Yes          -1.2521      0.130     -9.609      0.000      -1.507      -0.997\n",
      "room_type_reserved_Room_Type 2          -0.3175      0.132     -2.408      0.016      -0.576      -0.059\n",
      "room_type_reserved_Room_Type 4          -0.2647      0.050     -5.340      0.000      -0.362      -0.168\n",
      "arrival_year_2018                        0.5936      0.061      9.762      0.000       0.474       0.713\n",
      "arrival_month_August                    -0.3663      0.063     -5.841      0.000      -0.489      -0.243\n",
      "arrival_month_December                  -1.8678      0.096    -19.521      0.000      -2.055      -1.680\n",
      "arrival_month_February                   0.6736      0.085      7.887      0.000       0.506       0.841\n",
      "arrival_month_January                   -1.3693      0.179     -7.656      0.000      -1.720      -1.019\n",
      "arrival_month_July                      -0.2960      0.065     -4.542      0.000      -0.424      -0.168\n",
      "arrival_month_March                      0.2134      0.072      2.958      0.003       0.072       0.355\n",
      "arrival_month_May                       -0.4120      0.068     -6.022      0.000      -0.546      -0.278\n",
      "arrival_month_November                   0.3306      0.072      4.612      0.000       0.190       0.471\n",
      "arrival_month_September                 -0.3368      0.060     -5.579      0.000      -0.455      -0.218\n",
      "market_segment_type_Corporate           -1.3162      0.115    -11.471      0.000      -1.541      -1.091\n",
      "market_segment_type_Offline             -2.0274      0.052    -38.733      0.000      -2.130      -1.925\n",
      "========================================================================================================\n"
     ]
    }
   ],
   "source": [
    "logit3 = sm.Logit(y_train, X_train3.astype(float))\n",
    "lg3 = logit3.fit(method='bfgs')\n",
    "\n",
    "print(lg3.summary())"
   ]
  },
  {
   "cell_type": "code",
   "execution_count": 86,
   "id": "fe80aa63",
   "metadata": {},
   "outputs": [
    {
     "data": {
      "text/html": [
       "<div>\n",
       "<style scoped>\n",
       "    .dataframe tbody tr th:only-of-type {\n",
       "        vertical-align: middle;\n",
       "    }\n",
       "\n",
       "    .dataframe tbody tr th {\n",
       "        vertical-align: top;\n",
       "    }\n",
       "\n",
       "    .dataframe thead th {\n",
       "        text-align: right;\n",
       "    }\n",
       "</style>\n",
       "<table border=\"1\" class=\"dataframe\">\n",
       "  <thead>\n",
       "    <tr style=\"text-align: right;\">\n",
       "      <th></th>\n",
       "      <th>const</th>\n",
       "      <th>no_of_weekend_nights</th>\n",
       "      <th>lead_time</th>\n",
       "      <th>no_of_previous_bookings_not_canceled</th>\n",
       "      <th>avg_price_per_room</th>\n",
       "      <th>no_of_special_requests</th>\n",
       "      <th>lead_time_log</th>\n",
       "      <th>type_of_meal_plan_Meal Plan 2</th>\n",
       "      <th>required_car_parking_space_Yes</th>\n",
       "      <th>room_type_reserved_Room_Type 2</th>\n",
       "      <th>room_type_reserved_Room_Type 4</th>\n",
       "      <th>arrival_year_2018</th>\n",
       "      <th>arrival_month_August</th>\n",
       "      <th>arrival_month_December</th>\n",
       "      <th>arrival_month_February</th>\n",
       "      <th>arrival_month_January</th>\n",
       "      <th>arrival_month_July</th>\n",
       "      <th>arrival_month_March</th>\n",
       "      <th>arrival_month_May</th>\n",
       "      <th>arrival_month_November</th>\n",
       "      <th>arrival_month_September</th>\n",
       "      <th>market_segment_type_Corporate</th>\n",
       "      <th>market_segment_type_Offline</th>\n",
       "    </tr>\n",
       "  </thead>\n",
       "  <tbody>\n",
       "    <tr>\n",
       "      <th>Odds</th>\n",
       "      <td>0.025034</td>\n",
       "      <td>1.167247</td>\n",
       "      <td>1.014513</td>\n",
       "      <td>0.313070</td>\n",
       "      <td>1.017666</td>\n",
       "      <td>0.206338</td>\n",
       "      <td>1.238366</td>\n",
       "      <td>1.523935</td>\n",
       "      <td>0.285914</td>\n",
       "      <td>0.727968</td>\n",
       "      <td>0.767400</td>\n",
       "      <td>1.810553</td>\n",
       "      <td>0.693263</td>\n",
       "      <td>0.154460</td>\n",
       "      <td>1.961233</td>\n",
       "      <td>0.254288</td>\n",
       "      <td>0.743814</td>\n",
       "      <td>1.237902</td>\n",
       "      <td>0.662321</td>\n",
       "      <td>1.391856</td>\n",
       "      <td>0.71404</td>\n",
       "      <td>0.268164</td>\n",
       "      <td>0.131672</td>\n",
       "    </tr>\n",
       "    <tr>\n",
       "      <th>Change_odd%</th>\n",
       "      <td>-97.496617</td>\n",
       "      <td>16.724655</td>\n",
       "      <td>1.451294</td>\n",
       "      <td>-68.692967</td>\n",
       "      <td>1.766628</td>\n",
       "      <td>-79.366226</td>\n",
       "      <td>23.836650</td>\n",
       "      <td>52.393488</td>\n",
       "      <td>-71.408558</td>\n",
       "      <td>-27.203221</td>\n",
       "      <td>-23.259952</td>\n",
       "      <td>81.055267</td>\n",
       "      <td>-30.673712</td>\n",
       "      <td>-84.554031</td>\n",
       "      <td>96.123294</td>\n",
       "      <td>-74.571155</td>\n",
       "      <td>-25.618550</td>\n",
       "      <td>23.790200</td>\n",
       "      <td>-33.767864</td>\n",
       "      <td>39.185557</td>\n",
       "      <td>-28.59597</td>\n",
       "      <td>-73.183644</td>\n",
       "      <td>-86.832792</td>\n",
       "    </tr>\n",
       "  </tbody>\n",
       "</table>\n",
       "</div>"
      ],
      "text/plain": [
       "                 const  no_of_weekend_nights  lead_time  \\\n",
       "Odds          0.025034              1.167247   1.014513   \n",
       "Change_odd% -97.496617             16.724655   1.451294   \n",
       "\n",
       "             no_of_previous_bookings_not_canceled  avg_price_per_room  \\\n",
       "Odds                                     0.313070            1.017666   \n",
       "Change_odd%                            -68.692967            1.766628   \n",
       "\n",
       "             no_of_special_requests  lead_time_log  \\\n",
       "Odds                       0.206338       1.238366   \n",
       "Change_odd%              -79.366226      23.836650   \n",
       "\n",
       "             type_of_meal_plan_Meal Plan 2  required_car_parking_space_Yes  \\\n",
       "Odds                              1.523935                        0.285914   \n",
       "Change_odd%                      52.393488                      -71.408558   \n",
       "\n",
       "             room_type_reserved_Room_Type 2  room_type_reserved_Room_Type 4  \\\n",
       "Odds                               0.727968                        0.767400   \n",
       "Change_odd%                      -27.203221                      -23.259952   \n",
       "\n",
       "             arrival_year_2018  arrival_month_August  arrival_month_December  \\\n",
       "Odds                  1.810553              0.693263                0.154460   \n",
       "Change_odd%          81.055267            -30.673712              -84.554031   \n",
       "\n",
       "             arrival_month_February  arrival_month_January  \\\n",
       "Odds                       1.961233               0.254288   \n",
       "Change_odd%               96.123294             -74.571155   \n",
       "\n",
       "             arrival_month_July  arrival_month_March  arrival_month_May  \\\n",
       "Odds                   0.743814             1.237902           0.662321   \n",
       "Change_odd%          -25.618550            23.790200         -33.767864   \n",
       "\n",
       "             arrival_month_November  arrival_month_September  \\\n",
       "Odds                       1.391856                  0.71404   \n",
       "Change_odd%               39.185557                -28.59597   \n",
       "\n",
       "             market_segment_type_Corporate  market_segment_type_Offline  \n",
       "Odds                              0.268164                     0.131672  \n",
       "Change_odd%                     -73.183644                   -86.832792  "
      ]
     },
     "execution_count": 86,
     "metadata": {},
     "output_type": "execute_result"
    }
   ],
   "source": [
    "# converting coefficients to odds\n",
    "odds = np.exp(lg3.params)\n",
    "\n",
    "# finding the percentage change\n",
    "perc_change_odds = (np.exp(lg3.params) - 1) * 100\n",
    "\n",
    "# removing limit from number of columns to display\n",
    "pd.set_option(\"display.max_columns\", None)\n",
    "\n",
    "# Dataframe: adding the odds to a dataframe\n",
    "pd.DataFrame({\"Odds\": odds, \"Change_odd%\": perc_change_odds}, index=X_train3.columns).T"
   ]
  },
  {
   "cell_type": "code",
   "execution_count": 104,
   "id": "1e773e20",
   "metadata": {},
   "outputs": [
    {
     "name": "stdout",
     "output_type": "stream",
     "text": [
      "0.025034510149960148\n",
      "-97.49654898500398\n"
     ]
    }
   ],
   "source": [
    "print(np.exp(-3.6875))\n",
    "print((np.exp(-3.6875) - 1) * 100)"
   ]
  },
  {
   "cell_type": "markdown",
   "id": "historic-season",
   "metadata": {
    "id": "historic-season"
   },
   "source": [
    "## 2.2 Model performance evaluation"
   ]
  },
  {
   "cell_type": "markdown",
   "id": "aeec2c4a",
   "metadata": {
    "id": "integral-conservation"
   },
   "source": [
    "* **Model Performance on the training set, threshold = 0.5**"
   ]
  },
  {
   "cell_type": "code",
   "execution_count": 87,
   "id": "71d4754a",
   "metadata": {},
   "outputs": [
    {
     "data": {
      "image/png": "[encoded data removed]",
      "text/plain": [
       "<Figure size 432x288 with 2 Axes>"
      ]
     },
     "metadata": {},
     "output_type": "display_data"
    }
   ],
   "source": [
    "# creating confusion matrix\n",
    "confusion_matrix_statsmodels(lg3, X_train3, y_train)"
   ]
  },
  {
   "cell_type": "code",
   "execution_count": 88,
   "id": "478d62c9",
   "metadata": {},
   "outputs": [
    {
     "name": "stdout",
     "output_type": "stream",
     "text": [
      "Training performance:\n"
     ]
    },
    {
     "data": {
      "text/html": [
       "<div>\n",
       "<style scoped>\n",
       "    .dataframe tbody tr th:only-of-type {\n",
       "        vertical-align: middle;\n",
       "    }\n",
       "\n",
       "    .dataframe tbody tr th {\n",
       "        vertical-align: top;\n",
       "    }\n",
       "\n",
       "    .dataframe thead th {\n",
       "        text-align: right;\n",
       "    }\n",
       "</style>\n",
       "<table border=\"1\" class=\"dataframe\">\n",
       "  <thead>\n",
       "    <tr style=\"text-align: right;\">\n",
       "      <th></th>\n",
       "      <th>Accuracy</th>\n",
       "      <th>Recall</th>\n",
       "      <th>Precision</th>\n",
       "      <th>F1</th>\n",
       "    </tr>\n",
       "  </thead>\n",
       "  <tbody>\n",
       "    <tr>\n",
       "      <th>0</th>\n",
       "      <td>0.809901</td>\n",
       "      <td>0.658733</td>\n",
       "      <td>0.733798</td>\n",
       "      <td>0.694242</td>\n",
       "    </tr>\n",
       "  </tbody>\n",
       "</table>\n",
       "</div>"
      ],
      "text/plain": [
       "   Accuracy    Recall  Precision        F1\n",
       "0  0.809901  0.658733   0.733798  0.694242"
      ]
     },
     "execution_count": 88,
     "metadata": {},
     "output_type": "execute_result"
    }
   ],
   "source": [
    "log_reg_model_train_perf = model_performance_classification_metrics(\n",
    "    lg3, X_train3, y_train #it has by default threshold = 0.5\n",
    ")\n",
    "\n",
    "print(\"Training performance:\")\n",
    "log_reg_model_train_perf"
   ]
  },
  {
   "cell_type": "markdown",
   "id": "310aa759",
   "metadata": {},
   "source": [
    "**ROC curve on train set**"
   ]
  },
  {
   "cell_type": "code",
   "execution_count": 89,
   "id": "8c2c257a",
   "metadata": {},
   "outputs": [
    {
     "data": {
      "image/png": "[encoded data removed]",
      "text/plain": [
       "<Figure size 504x360 with 1 Axes>"
      ]
     },
     "metadata": {},
     "output_type": "display_data"
    }
   ],
   "source": [
    "logit_roc_auc_train = roc_auc_score(y_train, lg3.predict(X_train3)) #ROC is blue, #AUC: is Area under curve until red line\n",
    "fpr, tpr, thresholds = roc_curve(y_train, lg3.predict(X_train3))\n",
    "plt.figure(figsize=(7, 5))\n",
    "plt.plot(fpr, tpr, label=\"Logistic Regression (area = %0.2f)\" % logit_roc_auc_train)\n",
    "plt.plot([0, 1], [0, 1], \"r--\")\n",
    "plt.xlim([0.0, 1.0])\n",
    "plt.ylim([0.0, 1.05])\n",
    "plt.xlabel(\"False Positive Rate\")\n",
    "plt.ylabel(\"True Positive Rate\")\n",
    "plt.title(\"ROC: Receiver operating characteristic\")\n",
    "plt.legend(loc=\"lower right\")\n",
    "plt.show()"
   ]
  },
  {
   "cell_type": "code",
   "execution_count": 90,
   "id": "1d31c4a9",
   "metadata": {},
   "outputs": [
    {
     "name": "stdout",
     "output_type": "stream",
     "text": [
      "0.29367810788289517\n"
     ]
    }
   ],
   "source": [
    "# Optimal threshold as per AUC-ROC curve\n",
    "# The optimal cut off would be where tpr is high and fpr is low\n",
    "fpr, tpr, thresholds = roc_curve(y_train, lg3.predict(X_train3)) #y_true, y_score\n",
    "\n",
    "optimal_idx = np.argmax(tpr - fpr) #Returns the indices of the maximum values along an axis.\n",
    "optimal_threshold_auc_roc = thresholds[optimal_idx]\n",
    "print(optimal_threshold_auc_roc)"
   ]
  },
  {
   "cell_type": "code",
   "execution_count": 107,
   "id": "c3b4e77f",
   "metadata": {},
   "outputs": [
    {
     "data": {
      "text/plain": [
       "0.3"
      ]
     },
     "execution_count": 107,
     "metadata": {},
     "output_type": "execute_result"
    }
   ],
   "source": [
    "np.round(0.29367810788289517,1)"
   ]
  },
  {
   "cell_type": "markdown",
   "id": "df097608",
   "metadata": {},
   "source": [
    "* **Checking the model performance with this new threshold = 0.3**"
   ]
  },
  {
   "cell_type": "code",
   "execution_count": 91,
   "id": "805170d4",
   "metadata": {},
   "outputs": [
    {
     "name": "stdout",
     "output_type": "stream",
     "text": [
      "Training performance:\n"
     ]
    },
    {
     "data": {
      "text/html": [
       "<div>\n",
       "<style scoped>\n",
       "    .dataframe tbody tr th:only-of-type {\n",
       "        vertical-align: middle;\n",
       "    }\n",
       "\n",
       "    .dataframe tbody tr th {\n",
       "        vertical-align: top;\n",
       "    }\n",
       "\n",
       "    .dataframe thead th {\n",
       "        text-align: right;\n",
       "    }\n",
       "</style>\n",
       "<table border=\"1\" class=\"dataframe\">\n",
       "  <thead>\n",
       "    <tr style=\"text-align: right;\">\n",
       "      <th></th>\n",
       "      <th>Accuracy</th>\n",
       "      <th>Recall</th>\n",
       "      <th>Precision</th>\n",
       "      <th>F1</th>\n",
       "    </tr>\n",
       "  </thead>\n",
       "  <tbody>\n",
       "    <tr>\n",
       "      <th>0</th>\n",
       "      <td>0.778198</td>\n",
       "      <td>0.822094</td>\n",
       "      <td>0.622236</td>\n",
       "      <td>0.708338</td>\n",
       "    </tr>\n",
       "  </tbody>\n",
       "</table>\n",
       "</div>"
      ],
      "text/plain": [
       "   Accuracy    Recall  Precision        F1\n",
       "0  0.778198  0.822094   0.622236  0.708338"
      ]
     },
     "execution_count": 91,
     "metadata": {},
     "output_type": "execute_result"
    }
   ],
   "source": [
    "# checking model performance for this model\n",
    "log_reg_model_train_perf_threshold_auc_roc = model_performance_classification_metrics(\n",
    "    lg3, X_train3, y_train, threshold=optimal_threshold_auc_roc #as we increase the threshold the precision decrease\n",
    ")\n",
    "print(\"Training performance:\")\n",
    "log_reg_model_train_perf_threshold_auc_roc"
   ]
  },
  {
   "cell_type": "markdown",
   "id": "5f7e3695",
   "metadata": {},
   "source": [
    "**Let's use Precision-Recall curve and see if we can find a better threshold**"
   ]
  },
  {
   "cell_type": "code",
   "execution_count": 92,
   "id": "8ecdffd8",
   "metadata": {},
   "outputs": [
    {
     "data": {
      "image/png": "[encoded data removed]",
      "text/plain": [
       "<Figure size 720x504 with 1 Axes>"
      ]
     },
     "metadata": {},
     "output_type": "display_data"
    }
   ],
   "source": [
    "y_scores = lg3.predict(X_train3)\n",
    "prec, rec, tre = precision_recall_curve(y_train, y_scores)\n",
    "\n",
    "\n",
    "def plot_prec_recall_vs_tresh(precisions, recalls, thresholds):\n",
    "    plt.plot(thresholds, precisions[:-1], \"b--\", label=\"precision\")\n",
    "    plt.plot(thresholds, recalls[:-1], \"g--\", label=\"recall\")\n",
    "    plt.xlabel(\"Threshold\")\n",
    "    plt.legend(loc=\"upper left\")\n",
    "    plt.ylim([0, 1])\n",
    "\n",
    "\n",
    "plt.figure(figsize=(10, 7))\n",
    "plot_prec_recall_vs_tresh(prec, rec, tre)\n",
    "plt.show()"
   ]
  },
  {
   "cell_type": "markdown",
   "id": "953217a7",
   "metadata": {},
   "source": [
    "* **Let's use a threshold of 0.40**"
   ]
  },
  {
   "cell_type": "code",
   "execution_count": 93,
   "id": "be0d630f",
   "metadata": {},
   "outputs": [],
   "source": [
    "# setting the threshold\n",
    "optimal_threshold_curve = 0.40"
   ]
  },
  {
   "cell_type": "code",
   "execution_count": 94,
   "id": "0a7ea804",
   "metadata": {},
   "outputs": [
    {
     "data": {
      "image/png": "[encoded data removed]",
      "text/plain": [
       "<Figure size 432x288 with 2 Axes>"
      ]
     },
     "metadata": {},
     "output_type": "display_data"
    }
   ],
   "source": [
    "# creating confusion matrix\n",
    "confusion_matrix_statsmodels(lg3, X_train3, y_train, threshold=optimal_threshold_curve)"
   ]
  },
  {
   "cell_type": "code",
   "execution_count": 95,
   "id": "b2471f63",
   "metadata": {},
   "outputs": [
    {
     "name": "stdout",
     "output_type": "stream",
     "text": [
      "Training performance:\n"
     ]
    },
    {
     "data": {
      "text/html": [
       "<div>\n",
       "<style scoped>\n",
       "    .dataframe tbody tr th:only-of-type {\n",
       "        vertical-align: middle;\n",
       "    }\n",
       "\n",
       "    .dataframe tbody tr th {\n",
       "        vertical-align: top;\n",
       "    }\n",
       "\n",
       "    .dataframe thead th {\n",
       "        text-align: right;\n",
       "    }\n",
       "</style>\n",
       "<table border=\"1\" class=\"dataframe\">\n",
       "  <thead>\n",
       "    <tr style=\"text-align: right;\">\n",
       "      <th></th>\n",
       "      <th>Accuracy</th>\n",
       "      <th>Recall</th>\n",
       "      <th>Precision</th>\n",
       "      <th>F1</th>\n",
       "    </tr>\n",
       "  </thead>\n",
       "  <tbody>\n",
       "    <tr>\n",
       "      <th>0</th>\n",
       "      <td>0.800291</td>\n",
       "      <td>0.730737</td>\n",
       "      <td>0.682267</td>\n",
       "      <td>0.705671</td>\n",
       "    </tr>\n",
       "  </tbody>\n",
       "</table>\n",
       "</div>"
      ],
      "text/plain": [
       "   Accuracy    Recall  Precision        F1\n",
       "0  0.800291  0.730737   0.682267  0.705671"
      ]
     },
     "execution_count": 95,
     "metadata": {},
     "output_type": "execute_result"
    }
   ],
   "source": [
    "log_reg_model_train_perf_threshold_curve = model_performance_classification_metrics(\n",
    "    lg3, X_train3, y_train, threshold=optimal_threshold_curve\n",
    ")\n",
    "print(\"Training performance:\")\n",
    "log_reg_model_train_perf_threshold_curve"
   ]
  },
  {
   "cell_type": "markdown",
   "id": "5c83488b",
   "metadata": {},
   "source": [
    "### Model Performance Summary"
   ]
  },
  {
   "cell_type": "code",
   "execution_count": 97,
   "id": "b69fcfcd",
   "metadata": {},
   "outputs": [
    {
     "name": "stdout",
     "output_type": "stream",
     "text": [
      "Training performance comparison:\n"
     ]
    },
    {
     "data": {
      "text/html": [
       "<div>\n",
       "<style scoped>\n",
       "    .dataframe tbody tr th:only-of-type {\n",
       "        vertical-align: middle;\n",
       "    }\n",
       "\n",
       "    .dataframe tbody tr th {\n",
       "        vertical-align: top;\n",
       "    }\n",
       "\n",
       "    .dataframe thead th {\n",
       "        text-align: right;\n",
       "    }\n",
       "</style>\n",
       "<table border=\"1\" class=\"dataframe\">\n",
       "  <thead>\n",
       "    <tr style=\"text-align: right;\">\n",
       "      <th></th>\n",
       "      <th>Logistic Regression-default Threshold (0.5)</th>\n",
       "      <th>Logistic Regression (0.3) Threshold</th>\n",
       "      <th>Logistic Regression (0.40) Threshold</th>\n",
       "    </tr>\n",
       "  </thead>\n",
       "  <tbody>\n",
       "    <tr>\n",
       "      <th>Accuracy</th>\n",
       "      <td>0.809901</td>\n",
       "      <td>0.778198</td>\n",
       "      <td>0.800291</td>\n",
       "    </tr>\n",
       "    <tr>\n",
       "      <th>Recall</th>\n",
       "      <td>0.658733</td>\n",
       "      <td>0.822094</td>\n",
       "      <td>0.730737</td>\n",
       "    </tr>\n",
       "    <tr>\n",
       "      <th>Precision</th>\n",
       "      <td>0.733798</td>\n",
       "      <td>0.622236</td>\n",
       "      <td>0.682267</td>\n",
       "    </tr>\n",
       "    <tr>\n",
       "      <th>F1</th>\n",
       "      <td>0.694242</td>\n",
       "      <td>0.708338</td>\n",
       "      <td>0.705671</td>\n",
       "    </tr>\n",
       "  </tbody>\n",
       "</table>\n",
       "</div>"
      ],
      "text/plain": [
       "           Logistic Regression-default Threshold (0.5)  \\\n",
       "Accuracy                                      0.809901   \n",
       "Recall                                        0.658733   \n",
       "Precision                                     0.733798   \n",
       "F1                                            0.694242   \n",
       "\n",
       "           Logistic Regression (0.3) Threshold  \\\n",
       "Accuracy                              0.778198   \n",
       "Recall                                0.822094   \n",
       "Precision                             0.622236   \n",
       "F1                                    0.708338   \n",
       "\n",
       "           Logistic Regression (0.40) Threshold  \n",
       "Accuracy                               0.800291  \n",
       "Recall                                 0.730737  \n",
       "Precision                              0.682267  \n",
       "F1                                     0.705671  "
      ]
     },
     "execution_count": 97,
     "metadata": {},
     "output_type": "execute_result"
    }
   ],
   "source": [
    "# training performance comparison\n",
    "\n",
    "models_train_comp_df = pd.concat(\n",
    "    [\n",
    "        log_reg_model_train_perf.T,\n",
    "        log_reg_model_train_perf_threshold_auc_roc.T,\n",
    "        log_reg_model_train_perf_threshold_curve.T,\n",
    "    ],\n",
    "    axis=1,\n",
    ")\n",
    "models_train_comp_df.columns = [\n",
    "    \"Logistic Regression-default Threshold (0.5)\",\n",
    "    \"Logistic Regression (0.3) Threshold\",\n",
    "    \"Logistic Regression (0.40) Threshold\",\n",
    "]\n",
    "\n",
    "print(\"Training performance comparison:\")\n",
    "models_train_comp_df"
   ]
  },
  {
   "cell_type": "markdown",
   "id": "59d3ab43",
   "metadata": {},
   "source": [
    "* We see that in the model with threshold = 0.3, the Recall is high but the Precision is a bit lower."
   ]
  },
  {
   "cell_type": "markdown",
   "id": "6f13b142",
   "metadata": {},
   "source": [
    "### Checking the model on the test set"
   ]
  },
  {
   "cell_type": "markdown",
   "id": "24bed172",
   "metadata": {},
   "source": [
    "Let's get only the neccesary columns for the test  "
   ]
  },
  {
   "cell_type": "code",
   "execution_count": 98,
   "id": "0936aee7",
   "metadata": {},
   "outputs": [],
   "source": [
    "X_test3 = X_test[list(X_train3.columns)]"
   ]
  },
  {
   "cell_type": "markdown",
   "id": "d2bacb70",
   "metadata": {},
   "source": [
    "**Threshold = 0.5**"
   ]
  },
  {
   "cell_type": "code",
   "execution_count": 99,
   "id": "76dfd18f",
   "metadata": {},
   "outputs": [
    {
     "data": {
      "image/png": "[encoded data removed]",
      "text/plain": [
       "<Figure size 432x288 with 2 Axes>"
      ]
     },
     "metadata": {},
     "output_type": "display_data"
    }
   ],
   "source": [
    "# creating confusion matrix\n",
    "confusion_matrix_statsmodels(lg3, X_test3, y_test)"
   ]
  },
  {
   "cell_type": "code",
   "execution_count": 100,
   "id": "f94352b1",
   "metadata": {},
   "outputs": [
    {
     "name": "stdout",
     "output_type": "stream",
     "text": [
      "Test performance:\n"
     ]
    },
    {
     "data": {
      "text/html": [
       "<div>\n",
       "<style scoped>\n",
       "    .dataframe tbody tr th:only-of-type {\n",
       "        vertical-align: middle;\n",
       "    }\n",
       "\n",
       "    .dataframe tbody tr th {\n",
       "        vertical-align: top;\n",
       "    }\n",
       "\n",
       "    .dataframe thead th {\n",
       "        text-align: right;\n",
       "    }\n",
       "</style>\n",
       "<table border=\"1\" class=\"dataframe\">\n",
       "  <thead>\n",
       "    <tr style=\"text-align: right;\">\n",
       "      <th></th>\n",
       "      <th>Accuracy</th>\n",
       "      <th>Recall</th>\n",
       "      <th>Precision</th>\n",
       "      <th>F1</th>\n",
       "    </tr>\n",
       "  </thead>\n",
       "  <tbody>\n",
       "    <tr>\n",
       "      <th>0</th>\n",
       "      <td>0.803271</td>\n",
       "      <td>0.64498</td>\n",
       "      <td>0.724409</td>\n",
       "      <td>0.682391</td>\n",
       "    </tr>\n",
       "  </tbody>\n",
       "</table>\n",
       "</div>"
      ],
      "text/plain": [
       "   Accuracy   Recall  Precision        F1\n",
       "0  0.803271  0.64498   0.724409  0.682391"
      ]
     },
     "execution_count": 100,
     "metadata": {},
     "output_type": "execute_result"
    }
   ],
   "source": [
    "log_reg_model_test_perf = model_performance_classification_metrics(\n",
    "    lg3, X_test3, y_test\n",
    ")\n",
    "\n",
    "print(\"Test performance:\")\n",
    "log_reg_model_test_perf"
   ]
  },
  {
   "cell_type": "markdown",
   "id": "6a8b2b30",
   "metadata": {},
   "source": [
    "* **ROC curve on test set**"
   ]
  },
  {
   "cell_type": "code",
   "execution_count": 101,
   "id": "cd5287b0",
   "metadata": {},
   "outputs": [
    {
     "data": {
      "image/png": "[encoded data removed]",
      "text/plain": [
       "<Figure size 504x360 with 1 Axes>"
      ]
     },
     "metadata": {},
     "output_type": "display_data"
    }
   ],
   "source": [
    "logit_roc_auc_train = roc_auc_score(y_test, lg3.predict(X_test3))\n",
    "fpr, tpr, thresholds = roc_curve(y_test, lg3.predict(X_test3))\n",
    "plt.figure(figsize=(7, 5))\n",
    "plt.plot(fpr, tpr, label=\"Logistic Regression (area = %0.2f)\" % logit_roc_auc_train)\n",
    "plt.plot([0, 1], [0, 1], \"r--\")\n",
    "plt.xlim([0.0, 1.0])\n",
    "plt.ylim([0.0, 1.05])\n",
    "plt.xlabel(\"False Positive Rate\")\n",
    "plt.ylabel(\"True Positive Rate\")\n",
    "plt.title(\"Receiver operating characteristic\")\n",
    "plt.legend(loc=\"lower right\")\n",
    "plt.show()"
   ]
  },
  {
   "cell_type": "code",
   "execution_count": 102,
   "id": "d826b774",
   "metadata": {},
   "outputs": [
    {
     "name": "stdout",
     "output_type": "stream",
     "text": [
      "0.29352101075830545\n"
     ]
    }
   ],
   "source": [
    "# Optimal threshold as per AUC-ROC curve\n",
    "# The optimal cut off would be where tpr is high and fpr is low\n",
    "fpr, tpr, thresholds = roc_curve(y_test, lg3.predict(X_test3)) #y_true, y_score\n",
    "\n",
    "optimal_idx = np.argmax(tpr - fpr) #Returns the indices of the maximum values along an axis.\n",
    "optimal_threshold_auc_roc = thresholds[optimal_idx]\n",
    "print(optimal_threshold_auc_roc)"
   ]
  },
  {
   "cell_type": "markdown",
   "id": "b76298d3",
   "metadata": {},
   "source": [
    "**Threshold = 0.3**"
   ]
  },
  {
   "cell_type": "code",
   "execution_count": 103,
   "id": "78334df6",
   "metadata": {},
   "outputs": [
    {
     "data": {
      "image/png": "[encoded data removed]",
      "text/plain": [
       "<Figure size 432x288 with 2 Axes>"
      ]
     },
     "metadata": {},
     "output_type": "display_data"
    }
   ],
   "source": [
    "# creating confusion matrix\n",
    "confusion_matrix_statsmodels(lg3, X_test3, y_test, threshold=optimal_threshold_auc_roc)"
   ]
  },
  {
   "cell_type": "code",
   "execution_count": 104,
   "id": "def0880f",
   "metadata": {},
   "outputs": [
    {
     "name": "stdout",
     "output_type": "stream",
     "text": [
      "Test performance:\n"
     ]
    },
    {
     "data": {
      "text/html": [
       "<div>\n",
       "<style scoped>\n",
       "    .dataframe tbody tr th:only-of-type {\n",
       "        vertical-align: middle;\n",
       "    }\n",
       "\n",
       "    .dataframe tbody tr th {\n",
       "        vertical-align: top;\n",
       "    }\n",
       "\n",
       "    .dataframe thead th {\n",
       "        text-align: right;\n",
       "    }\n",
       "</style>\n",
       "<table border=\"1\" class=\"dataframe\">\n",
       "  <thead>\n",
       "    <tr style=\"text-align: right;\">\n",
       "      <th></th>\n",
       "      <th>Accuracy</th>\n",
       "      <th>Recall</th>\n",
       "      <th>Precision</th>\n",
       "      <th>F1</th>\n",
       "    </tr>\n",
       "  </thead>\n",
       "  <tbody>\n",
       "    <tr>\n",
       "      <th>0</th>\n",
       "      <td>0.775705</td>\n",
       "      <td>0.818564</td>\n",
       "      <td>0.619351</td>\n",
       "      <td>0.705158</td>\n",
       "    </tr>\n",
       "  </tbody>\n",
       "</table>\n",
       "</div>"
      ],
      "text/plain": [
       "   Accuracy    Recall  Precision        F1\n",
       "0  0.775705  0.818564   0.619351  0.705158"
      ]
     },
     "execution_count": 104,
     "metadata": {},
     "output_type": "execute_result"
    }
   ],
   "source": [
    "# checking model performance for this model\n",
    "log_reg_model_test_perf_threshold_auc_roc = model_performance_classification_metrics(\n",
    "    lg3, X_test3, y_test, threshold=optimal_threshold_auc_roc\n",
    ")\n",
    "print(\"Test performance:\")\n",
    "log_reg_model_test_perf_threshold_auc_roc"
   ]
  },
  {
   "cell_type": "markdown",
   "id": "a47b421e",
   "metadata": {},
   "source": [
    "**Threshold = 0.40** "
   ]
  },
  {
   "cell_type": "code",
   "execution_count": 110,
   "id": "4fc16efb",
   "metadata": {},
   "outputs": [
    {
     "name": "stdout",
     "output_type": "stream",
     "text": [
      "optimal_threshold_curve: 0.4\n"
     ]
    }
   ],
   "source": [
    "print(\"optimal_threshold_curve:\",optimal_threshold_curve)"
   ]
  },
  {
   "cell_type": "code",
   "execution_count": 109,
   "id": "57e70e71",
   "metadata": {},
   "outputs": [
    {
     "data": {
      "image/png": "[encoded data removed]",
      "text/plain": [
       "<Figure size 432x288 with 2 Axes>"
      ]
     },
     "metadata": {},
     "output_type": "display_data"
    }
   ],
   "source": [
    "# creating confusion matrix\n",
    "confusion_matrix_statsmodels(lg3, X_test3, y_test, threshold=optimal_threshold_curve)"
   ]
  },
  {
   "cell_type": "code",
   "execution_count": 111,
   "id": "86bb98dd",
   "metadata": {},
   "outputs": [
    {
     "name": "stdout",
     "output_type": "stream",
     "text": [
      "Test performance:\n"
     ]
    },
    {
     "data": {
      "text/html": [
       "<div>\n",
       "<style scoped>\n",
       "    .dataframe tbody tr th:only-of-type {\n",
       "        vertical-align: middle;\n",
       "    }\n",
       "\n",
       "    .dataframe tbody tr th {\n",
       "        vertical-align: top;\n",
       "    }\n",
       "\n",
       "    .dataframe thead th {\n",
       "        text-align: right;\n",
       "    }\n",
       "</style>\n",
       "<table border=\"1\" class=\"dataframe\">\n",
       "  <thead>\n",
       "    <tr style=\"text-align: right;\">\n",
       "      <th></th>\n",
       "      <th>Accuracy</th>\n",
       "      <th>Recall</th>\n",
       "      <th>Precision</th>\n",
       "      <th>F1</th>\n",
       "    </tr>\n",
       "  </thead>\n",
       "  <tbody>\n",
       "    <tr>\n",
       "      <th>0</th>\n",
       "      <td>0.795093</td>\n",
       "      <td>0.727706</td>\n",
       "      <td>0.673326</td>\n",
       "      <td>0.699461</td>\n",
       "    </tr>\n",
       "  </tbody>\n",
       "</table>\n",
       "</div>"
      ],
      "text/plain": [
       "   Accuracy    Recall  Precision        F1\n",
       "0  0.795093  0.727706   0.673326  0.699461"
      ]
     },
     "execution_count": 111,
     "metadata": {},
     "output_type": "execute_result"
    }
   ],
   "source": [
    "log_reg_model_test_perf_threshold_curve = model_performance_classification_metrics(\n",
    "    lg3, X_test3, y_test, threshold=optimal_threshold_curve\n",
    ")\n",
    "print(\"Test performance:\")\n",
    "log_reg_model_test_perf_threshold_curve"
   ]
  },
  {
   "cell_type": "markdown",
   "id": "stylish-collaboration",
   "metadata": {
    "id": "stylish-collaboration"
   },
   "source": [
    "## 2.3 Final Model Summary"
   ]
  },
  {
   "cell_type": "code",
   "execution_count": 216,
   "id": "related-breathing",
   "metadata": {
    "id": "related-breathing"
   },
   "outputs": [
    {
     "name": "stdout",
     "output_type": "stream",
     "text": [
      "Training performance comparison:\n"
     ]
    },
    {
     "data": {
      "text/html": [
       "<div>\n",
       "<style scoped>\n",
       "    .dataframe tbody tr th:only-of-type {\n",
       "        vertical-align: middle;\n",
       "    }\n",
       "\n",
       "    .dataframe tbody tr th {\n",
       "        vertical-align: top;\n",
       "    }\n",
       "\n",
       "    .dataframe thead th {\n",
       "        text-align: right;\n",
       "    }\n",
       "</style>\n",
       "<table border=\"1\" class=\"dataframe\">\n",
       "  <thead>\n",
       "    <tr style=\"text-align: right;\">\n",
       "      <th></th>\n",
       "      <th>Logistic Regression-default Threshold (0.5)</th>\n",
       "      <th>Logistic Regression-0.3 Threshold</th>\n",
       "      <th>Logistic Regression-0.40 Threshold</th>\n",
       "    </tr>\n",
       "  </thead>\n",
       "  <tbody>\n",
       "    <tr>\n",
       "      <th>Accuracy</th>\n",
       "      <td>0.809901</td>\n",
       "      <td>0.778198</td>\n",
       "      <td>0.800291</td>\n",
       "    </tr>\n",
       "    <tr>\n",
       "      <th>Recall</th>\n",
       "      <td>0.658733</td>\n",
       "      <td>0.822094</td>\n",
       "      <td>0.730737</td>\n",
       "    </tr>\n",
       "    <tr>\n",
       "      <th>Precision</th>\n",
       "      <td>0.733798</td>\n",
       "      <td>0.622236</td>\n",
       "      <td>0.682267</td>\n",
       "    </tr>\n",
       "    <tr>\n",
       "      <th>F1</th>\n",
       "      <td>0.694242</td>\n",
       "      <td>0.708338</td>\n",
       "      <td>0.705671</td>\n",
       "    </tr>\n",
       "  </tbody>\n",
       "</table>\n",
       "</div>"
      ],
      "text/plain": [
       "           Logistic Regression-default Threshold (0.5)  \\\n",
       "Accuracy                                      0.809901   \n",
       "Recall                                        0.658733   \n",
       "Precision                                     0.733798   \n",
       "F1                                            0.694242   \n",
       "\n",
       "           Logistic Regression-0.3 Threshold  \\\n",
       "Accuracy                            0.778198   \n",
       "Recall                              0.822094   \n",
       "Precision                           0.622236   \n",
       "F1                                  0.708338   \n",
       "\n",
       "           Logistic Regression-0.40 Threshold  \n",
       "Accuracy                             0.800291  \n",
       "Recall                               0.730737  \n",
       "Precision                            0.682267  \n",
       "F1                                   0.705671  "
      ]
     },
     "execution_count": 216,
     "metadata": {},
     "output_type": "execute_result"
    }
   ],
   "source": [
    "# training performance comparison\n",
    "\n",
    "models_train_comp_df = pd.concat(\n",
    "    [\n",
    "        log_reg_model_train_perf.T,\n",
    "        log_reg_model_train_perf_threshold_auc_roc.T,\n",
    "        log_reg_model_train_perf_threshold_curve.T,\n",
    "    ],\n",
    "    axis=1,\n",
    ")\n",
    "models_train_comp_df.columns = [\n",
    "    \"Logistic Regression-default Threshold (0.5)\",\n",
    "    \"Logistic Regression-0.3 Threshold\",\n",
    "    \"Logistic Regression-0.40 Threshold\",\n",
    "]\n",
    "\n",
    "print(\"Training performance comparison:\")\n",
    "models_train_comp_df"
   ]
  },
  {
   "cell_type": "code",
   "execution_count": 217,
   "id": "45e3e216",
   "metadata": {},
   "outputs": [
    {
     "name": "stdout",
     "output_type": "stream",
     "text": [
      "Test set performance comparison:\n"
     ]
    },
    {
     "data": {
      "text/html": [
       "<div>\n",
       "<style scoped>\n",
       "    .dataframe tbody tr th:only-of-type {\n",
       "        vertical-align: middle;\n",
       "    }\n",
       "\n",
       "    .dataframe tbody tr th {\n",
       "        vertical-align: top;\n",
       "    }\n",
       "\n",
       "    .dataframe thead th {\n",
       "        text-align: right;\n",
       "    }\n",
       "</style>\n",
       "<table border=\"1\" class=\"dataframe\">\n",
       "  <thead>\n",
       "    <tr style=\"text-align: right;\">\n",
       "      <th></th>\n",
       "      <th>Logistic Regression-default Threshold (0.5)</th>\n",
       "      <th>Logistic Regression-0.3 Threshold</th>\n",
       "      <th>Logistic Regression-0.40 Threshold</th>\n",
       "    </tr>\n",
       "  </thead>\n",
       "  <tbody>\n",
       "    <tr>\n",
       "      <th>Accuracy</th>\n",
       "      <td>0.803271</td>\n",
       "      <td>0.775705</td>\n",
       "      <td>0.795093</td>\n",
       "    </tr>\n",
       "    <tr>\n",
       "      <th>Recall</th>\n",
       "      <td>0.644980</td>\n",
       "      <td>0.818564</td>\n",
       "      <td>0.727706</td>\n",
       "    </tr>\n",
       "    <tr>\n",
       "      <th>Precision</th>\n",
       "      <td>0.724409</td>\n",
       "      <td>0.619351</td>\n",
       "      <td>0.673326</td>\n",
       "    </tr>\n",
       "    <tr>\n",
       "      <th>F1</th>\n",
       "      <td>0.682391</td>\n",
       "      <td>0.705158</td>\n",
       "      <td>0.699461</td>\n",
       "    </tr>\n",
       "  </tbody>\n",
       "</table>\n",
       "</div>"
      ],
      "text/plain": [
       "           Logistic Regression-default Threshold (0.5)  \\\n",
       "Accuracy                                      0.803271   \n",
       "Recall                                        0.644980   \n",
       "Precision                                     0.724409   \n",
       "F1                                            0.682391   \n",
       "\n",
       "           Logistic Regression-0.3 Threshold  \\\n",
       "Accuracy                            0.775705   \n",
       "Recall                              0.818564   \n",
       "Precision                           0.619351   \n",
       "F1                                  0.705158   \n",
       "\n",
       "           Logistic Regression-0.40 Threshold  \n",
       "Accuracy                             0.795093  \n",
       "Recall                               0.727706  \n",
       "Precision                            0.673326  \n",
       "F1                                   0.699461  "
      ]
     },
     "execution_count": 217,
     "metadata": {},
     "output_type": "execute_result"
    }
   ],
   "source": [
    "# testing performance comparison\n",
    "\n",
    "models_test_comp_df = pd.concat(\n",
    "    [\n",
    "        log_reg_model_test_perf.T,\n",
    "        log_reg_model_test_perf_threshold_auc_roc.T,\n",
    "        log_reg_model_test_perf_threshold_curve.T,\n",
    "    ],\n",
    "    axis=1,\n",
    ")\n",
    "models_test_comp_df.columns = [\n",
    "    \"Logistic Regression-default Threshold (0.5)\",\n",
    "    \"Logistic Regression-0.3 Threshold\",\n",
    "    \"Logistic Regression-0.40 Threshold\",\n",
    "]\n",
    "\n",
    "print(\"Test set performance comparison:\")\n",
    "models_test_comp_df"
   ]
  },
  {
   "cell_type": "markdown",
   "id": "aecfd590",
   "metadata": {},
   "source": [
    "- The performance in both sets (training and testing) are almost the same with any threshold, but in the model with threshold = 0.3 that was obtained in ROC-AUC, Recall is a little better and always we say that, Recall is more important than Precision."
   ]
  }
 ],
 "metadata": {
  "colab": {
   "name": "SLC_Project_Template_Notebook.ipynb",
   "provenance": []
  },
  "kernelspec": {
   "display_name": "Python 3 (ipykernel)",
   "language": "python",
   "name": "python3"
  },
  "language_info": {
   "codemirror_mode": {
    "name": "ipython",
    "version": 3
   },
   "file_extension": ".py",
   "mimetype": "text/x-python",
   "name": "python",
   "nbconvert_exporter": "python",
   "pygments_lexer": "ipython3",
   "version": "3.9.7"
  }
 },
 "nbformat": 4,
 "nbformat_minor": 5
}
